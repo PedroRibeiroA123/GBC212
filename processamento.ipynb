{
 "cells": [
  {
   "cell_type": "code",
   "metadata": {
    "colab": {
     "base_uri": "https://localhost:8080/",
     "height": 71
    },
    "colab_type": "code",
    "executionInfo": {
     "elapsed": 1192,
     "status": "ok",
     "timestamp": 1573684847920,
     "user": {
      "displayName": "Fernando Matsumoto",
      "photoUrl": "",
      "userId": "02497909482286168309"
     },
     "user_tz": 120
    },
    "id": "huhOdj9WJL-k",
    "outputId": "eed756fd-c641-4aae-da86-6bb723067c82",
    "ExecuteTime": {
     "end_time": "2025-05-05T19:20:37.363065Z",
     "start_time": "2025-05-05T19:20:37.321301Z"
    }
   },
   "source": [
    "import re\n",
    "\n",
    "import pandas as pd\n",
    "import numpy as np\n",
    "import matplotlib.pyplot as plt\n",
    "from tqdm import tqdm\n",
    "\n",
    "from sklearn.naive_bayes import GaussianNB\n",
    "from sklearn.decomposition import PCA\n",
    "from sklearn.feature_extraction.text import TfidfVectorizer\n",
    "from sklearn.metrics import accuracy_score\n",
    "from sklearn.model_selection import train_test_split\n",
    "from sklearn.preprocessing import LabelEncoder\n",
    "from sklearn.svm import SVC\n",
    "\n",
    "import nltk\n",
    "nltk.download('wordnet')\n",
    "nltk.download('stopwords')\n",
    "tqdm.pandas()\n",
    "\n",
    "from nltk.corpus import stopwords\n",
    "from nltk.stem.wordnet import WordNetLemmatizer\n"
   ],
   "outputs": [
    {
     "name": "stderr",
     "output_type": "stream",
     "text": [
      "[nltk_data] Downloading package wordnet to\n",
      "[nltk_data]     C:\\Users\\Pedro\\AppData\\Roaming\\nltk_data...\n",
      "[nltk_data]   Package wordnet is already up-to-date!\n",
      "[nltk_data] Downloading package stopwords to\n",
      "[nltk_data]     C:\\Users\\Pedro\\AppData\\Roaming\\nltk_data...\n",
      "[nltk_data]   Package stopwords is already up-to-date!\n"
     ]
    }
   ],
   "execution_count": 18
  },
  {
   "cell_type": "markdown",
   "metadata": {},
   "source": [
    "Dataset carregado, colunas de link, autor e data removidas.\n",
    "\n",
    "Baseado na visualização, as 3 categorias mais frequentes estão muito acima das demais, isso será levado em consideração depois do pré-processamento do texto"
   ]
  },
  {
   "cell_type": "code",
   "metadata": {
    "colab": {
     "base_uri": "https://localhost:8080/",
     "height": 450
    },
    "colab_type": "code",
    "executionInfo": {
     "elapsed": 116748,
     "status": "error",
     "timestamp": 1573684968470,
     "user": {
      "displayName": "Fernando Matsumoto",
      "photoUrl": "",
      "userId": "02497909482286168309"
     },
     "user_tz": 120
    },
    "id": "inuQshNZJL-s",
    "outputId": "14c5baad-7707-4cbf-e6bd-9a6a4ca2669d",
    "ExecuteTime": {
     "end_time": "2025-05-05T19:20:39.448371Z",
     "start_time": "2025-05-05T19:20:37.392009Z"
    }
   },
   "source": [
    "dados = pd.read_json('datasetNews.json', lines = True)\n",
    "dados = dados.drop(columns=['link', 'authors', 'date'])\n",
    "dados.head()"
   ],
   "outputs": [
    {
     "data": {
      "text/plain": [
       "                                            headline   category  \\\n",
       "0  Over 4 Million Americans Roll Up Sleeves For O...  U.S. NEWS   \n",
       "1  American Airlines Flyer Charged, Banned For Li...  U.S. NEWS   \n",
       "2  23 Of The Funniest Tweets About Cats And Dogs ...     COMEDY   \n",
       "3  The Funniest Tweets From Parents This Week (Se...  PARENTING   \n",
       "4  Woman Who Called Cops On Black Bird-Watcher Lo...  U.S. NEWS   \n",
       "\n",
       "                                   short_description  \n",
       "0  Health experts said it is too early to predict...  \n",
       "1  He was subdued by passengers and crew when he ...  \n",
       "2  \"Until you have a dog you don't understand wha...  \n",
       "3  \"Accidentally put grown-up toothpaste on my to...  \n",
       "4  Amy Cooper accused investment firm Franklin Te...  "
      ],
      "text/html": [
       "<div>\n",
       "<style scoped>\n",
       "    .dataframe tbody tr th:only-of-type {\n",
       "        vertical-align: middle;\n",
       "    }\n",
       "\n",
       "    .dataframe tbody tr th {\n",
       "        vertical-align: top;\n",
       "    }\n",
       "\n",
       "    .dataframe thead th {\n",
       "        text-align: right;\n",
       "    }\n",
       "</style>\n",
       "<table border=\"1\" class=\"dataframe\">\n",
       "  <thead>\n",
       "    <tr style=\"text-align: right;\">\n",
       "      <th></th>\n",
       "      <th>headline</th>\n",
       "      <th>category</th>\n",
       "      <th>short_description</th>\n",
       "    </tr>\n",
       "  </thead>\n",
       "  <tbody>\n",
       "    <tr>\n",
       "      <th>0</th>\n",
       "      <td>Over 4 Million Americans Roll Up Sleeves For O...</td>\n",
       "      <td>U.S. NEWS</td>\n",
       "      <td>Health experts said it is too early to predict...</td>\n",
       "    </tr>\n",
       "    <tr>\n",
       "      <th>1</th>\n",
       "      <td>American Airlines Flyer Charged, Banned For Li...</td>\n",
       "      <td>U.S. NEWS</td>\n",
       "      <td>He was subdued by passengers and crew when he ...</td>\n",
       "    </tr>\n",
       "    <tr>\n",
       "      <th>2</th>\n",
       "      <td>23 Of The Funniest Tweets About Cats And Dogs ...</td>\n",
       "      <td>COMEDY</td>\n",
       "      <td>\"Until you have a dog you don't understand wha...</td>\n",
       "    </tr>\n",
       "    <tr>\n",
       "      <th>3</th>\n",
       "      <td>The Funniest Tweets From Parents This Week (Se...</td>\n",
       "      <td>PARENTING</td>\n",
       "      <td>\"Accidentally put grown-up toothpaste on my to...</td>\n",
       "    </tr>\n",
       "    <tr>\n",
       "      <th>4</th>\n",
       "      <td>Woman Who Called Cops On Black Bird-Watcher Lo...</td>\n",
       "      <td>U.S. NEWS</td>\n",
       "      <td>Amy Cooper accused investment firm Franklin Te...</td>\n",
       "    </tr>\n",
       "  </tbody>\n",
       "</table>\n",
       "</div>"
      ]
     },
     "execution_count": 19,
     "metadata": {},
     "output_type": "execute_result"
    }
   ],
   "execution_count": 19
  },
  {
   "cell_type": "code",
   "metadata": {
    "ExecuteTime": {
     "end_time": "2025-05-05T19:20:39.562558Z",
     "start_time": "2025-05-05T19:20:39.519227Z"
    }
   },
   "source": [
    "dados[\"category\"].value_counts()"
   ],
   "outputs": [
    {
     "data": {
      "text/plain": [
       "category\n",
       "POLITICS          35602\n",
       "WELLNESS          17945\n",
       "ENTERTAINMENT     17362\n",
       "TRAVEL             9900\n",
       "STYLE & BEAUTY     9814\n",
       "PARENTING          8791\n",
       "HEALTHY LIVING     6694\n",
       "QUEER VOICES       6347\n",
       "FOOD & DRINK       6340\n",
       "BUSINESS           5992\n",
       "COMEDY             5400\n",
       "SPORTS             5077\n",
       "BLACK VOICES       4583\n",
       "HOME & LIVING      4320\n",
       "PARENTS            3955\n",
       "THE WORLDPOST      3664\n",
       "WEDDINGS           3653\n",
       "WOMEN              3572\n",
       "CRIME              3562\n",
       "IMPACT             3484\n",
       "DIVORCE            3426\n",
       "WORLD NEWS         3299\n",
       "MEDIA              2944\n",
       "WEIRD NEWS         2777\n",
       "GREEN              2622\n",
       "WORLDPOST          2579\n",
       "RELIGION           2577\n",
       "STYLE              2254\n",
       "SCIENCE            2206\n",
       "TECH               2104\n",
       "TASTE              2096\n",
       "MONEY              1756\n",
       "ARTS               1509\n",
       "ENVIRONMENT        1444\n",
       "FIFTY              1401\n",
       "GOOD NEWS          1398\n",
       "U.S. NEWS          1377\n",
       "ARTS & CULTURE     1339\n",
       "COLLEGE            1144\n",
       "LATINO VOICES      1130\n",
       "CULTURE & ARTS     1074\n",
       "EDUCATION          1014\n",
       "Name: count, dtype: int64"
      ]
     },
     "execution_count": 20,
     "metadata": {},
     "output_type": "execute_result"
    }
   ],
   "execution_count": 20
  },
  {
   "cell_type": "markdown",
   "metadata": {},
   "source": [
    "Realizamos o tratamento e processamento inicial do texto, para mais informações consulte a bibliografia."
   ]
  },
  {
   "cell_type": "code",
   "metadata": {
    "ExecuteTime": {
     "end_time": "2025-05-05T19:21:22.567520Z",
     "start_time": "2025-05-05T19:20:39.654091Z"
    }
   },
   "source": [
    "stopwords_en = set(stopwords.words('english'))\n",
    "\n",
    "def datacleaning(text):\n",
    "    whitespace = re.compile(r\"\\s+\")\n",
    "    user = re.compile(r\"(?i)@[a-z0-9_]+\")\n",
    "    text = whitespace.sub(' ', text)\n",
    "    text = user.sub('', text)\n",
    "    text = re.sub(r\"\\[[^()]*\\]\",\"\", text)\n",
    "    text = re.sub(r\"\\d+\", \"\", text)\n",
    "    text = re.sub(r'[^\\w\\s]','',text)\n",
    "    text = re.sub(r\"(?:@\\S*|#\\S*|http(?=.*://)\\S*)\", \"\", text)\n",
    "    text = text.lower()\n",
    "    \n",
    "    text = [word for word in text.split() if word not in list(stopwords_en)]\n",
    "    \n",
    "    sentence = []\n",
    "    for word in text:\n",
    "        lemmatizer = WordNetLemmatizer()\n",
    "        sentence.append(lemmatizer.lemmatize(word,'v'))\n",
    "        \n",
    "    return ' '.join(sentence)\n",
    "\n",
    "dados['headline_processado'] = dados.headline.apply(datacleaning)\n",
    "dados['desc_processado'] = dados.short_description.apply(datacleaning)\n",
    "dados['texto_tot'] = dados['headline_processado'] + dados['desc_processado']\n",
    "dados.head()"
   ],
   "outputs": [
    {
     "data": {
      "text/plain": [
       "                                            headline   category  \\\n",
       "0  Over 4 Million Americans Roll Up Sleeves For O...  U.S. NEWS   \n",
       "1  American Airlines Flyer Charged, Banned For Li...  U.S. NEWS   \n",
       "2  23 Of The Funniest Tweets About Cats And Dogs ...     COMEDY   \n",
       "3  The Funniest Tweets From Parents This Week (Se...  PARENTING   \n",
       "4  Woman Who Called Cops On Black Bird-Watcher Lo...  U.S. NEWS   \n",
       "\n",
       "                                   short_description  \\\n",
       "0  Health experts said it is too early to predict...   \n",
       "1  He was subdued by passengers and crew when he ...   \n",
       "2  \"Until you have a dog you don't understand wha...   \n",
       "3  \"Accidentally put grown-up toothpaste on my to...   \n",
       "4  Amy Cooper accused investment firm Franklin Te...   \n",
       "\n",
       "                                 headline_processado  \\\n",
       "0  million americans roll sleeves omicrontargeted...   \n",
       "1  american airlines flyer charge ban life punch ...   \n",
       "2                   funniest tweet cat dog week sept   \n",
       "3                    funniest tweet parent week sept   \n",
       "4  woman call cop black birdwatcher lose lawsuit ...   \n",
       "\n",
       "                                     desc_processado  \\\n",
       "0  health experts say early predict whether deman...   \n",
       "1  subdue passengers crew flee back aircraft conf...   \n",
       "2                      dog dont understand could eat   \n",
       "3  accidentally put grownup toothpaste toddlers t...   \n",
       "4  amy cooper accuse investment firm franklin tem...   \n",
       "\n",
       "                                           texto_tot  \n",
       "0  million americans roll sleeves omicrontargeted...  \n",
       "1  american airlines flyer charge ban life punch ...  \n",
       "2  funniest tweet cat dog week septdog dont under...  \n",
       "3  funniest tweet parent week septaccidentally pu...  \n",
       "4  woman call cop black birdwatcher lose lawsuit ...  "
      ],
      "text/html": [
       "<div>\n",
       "<style scoped>\n",
       "    .dataframe tbody tr th:only-of-type {\n",
       "        vertical-align: middle;\n",
       "    }\n",
       "\n",
       "    .dataframe tbody tr th {\n",
       "        vertical-align: top;\n",
       "    }\n",
       "\n",
       "    .dataframe thead th {\n",
       "        text-align: right;\n",
       "    }\n",
       "</style>\n",
       "<table border=\"1\" class=\"dataframe\">\n",
       "  <thead>\n",
       "    <tr style=\"text-align: right;\">\n",
       "      <th></th>\n",
       "      <th>headline</th>\n",
       "      <th>category</th>\n",
       "      <th>short_description</th>\n",
       "      <th>headline_processado</th>\n",
       "      <th>desc_processado</th>\n",
       "      <th>texto_tot</th>\n",
       "    </tr>\n",
       "  </thead>\n",
       "  <tbody>\n",
       "    <tr>\n",
       "      <th>0</th>\n",
       "      <td>Over 4 Million Americans Roll Up Sleeves For O...</td>\n",
       "      <td>U.S. NEWS</td>\n",
       "      <td>Health experts said it is too early to predict...</td>\n",
       "      <td>million americans roll sleeves omicrontargeted...</td>\n",
       "      <td>health experts say early predict whether deman...</td>\n",
       "      <td>million americans roll sleeves omicrontargeted...</td>\n",
       "    </tr>\n",
       "    <tr>\n",
       "      <th>1</th>\n",
       "      <td>American Airlines Flyer Charged, Banned For Li...</td>\n",
       "      <td>U.S. NEWS</td>\n",
       "      <td>He was subdued by passengers and crew when he ...</td>\n",
       "      <td>american airlines flyer charge ban life punch ...</td>\n",
       "      <td>subdue passengers crew flee back aircraft conf...</td>\n",
       "      <td>american airlines flyer charge ban life punch ...</td>\n",
       "    </tr>\n",
       "    <tr>\n",
       "      <th>2</th>\n",
       "      <td>23 Of The Funniest Tweets About Cats And Dogs ...</td>\n",
       "      <td>COMEDY</td>\n",
       "      <td>\"Until you have a dog you don't understand wha...</td>\n",
       "      <td>funniest tweet cat dog week sept</td>\n",
       "      <td>dog dont understand could eat</td>\n",
       "      <td>funniest tweet cat dog week septdog dont under...</td>\n",
       "    </tr>\n",
       "    <tr>\n",
       "      <th>3</th>\n",
       "      <td>The Funniest Tweets From Parents This Week (Se...</td>\n",
       "      <td>PARENTING</td>\n",
       "      <td>\"Accidentally put grown-up toothpaste on my to...</td>\n",
       "      <td>funniest tweet parent week sept</td>\n",
       "      <td>accidentally put grownup toothpaste toddlers t...</td>\n",
       "      <td>funniest tweet parent week septaccidentally pu...</td>\n",
       "    </tr>\n",
       "    <tr>\n",
       "      <th>4</th>\n",
       "      <td>Woman Who Called Cops On Black Bird-Watcher Lo...</td>\n",
       "      <td>U.S. NEWS</td>\n",
       "      <td>Amy Cooper accused investment firm Franklin Te...</td>\n",
       "      <td>woman call cop black birdwatcher lose lawsuit ...</td>\n",
       "      <td>amy cooper accuse investment firm franklin tem...</td>\n",
       "      <td>woman call cop black birdwatcher lose lawsuit ...</td>\n",
       "    </tr>\n",
       "  </tbody>\n",
       "</table>\n",
       "</div>"
      ]
     },
     "execution_count": 21,
     "metadata": {},
     "output_type": "execute_result"
    }
   ],
   "execution_count": 21
  },
  {
   "cell_type": "markdown",
   "metadata": {},
   "source": [
    "Baseado na disparidade entre a quantidade de artigos por tema, estaremos dividindo a base em 3 conjuntos\n",
    "1. Três principais temas\n",
    "2. Todos os temas menos os três principais\n",
    "3. Os nove temas com mais artigos após a remoção dos três principais"
   ]
  },
  {
   "cell_type": "code",
   "metadata": {
    "ExecuteTime": {
     "end_time": "2025-05-05T19:21:23.448763Z",
     "start_time": "2025-05-05T19:21:22.624274Z"
    }
   },
   "source": [
    "temas1 = ['POLITICS', 'WELLNESS', 'ENTERTAINMENT']\n",
    "temas3 = ['TRAVEL', 'STYLE & BEAUTY', 'PARENTING', 'HEALTHY LIVING', 'QUEER VOICES', 'FOOD & DRINK','BUSINESS', 'COMEDY', 'SPORTS']\n",
    "dados_t1 = dados[dados['category'].isin(temas1)].copy()\n",
    "dados_t2 = dados[~dados['category'].isin(temas1)].copy()\n",
    "dados_t3 = dados[dados['category'].isin(temas3)].copy()\n",
    "dados_t1.category.value_counts()"
   ],
   "outputs": [
    {
     "data": {
      "text/plain": [
       "category\n",
       "POLITICS         35602\n",
       "WELLNESS         17945\n",
       "ENTERTAINMENT    17362\n",
       "Name: count, dtype: int64"
      ]
     },
     "execution_count": 22,
     "metadata": {},
     "output_type": "execute_result"
    }
   ],
   "execution_count": 22
  },
  {
   "cell_type": "code",
   "metadata": {
    "ExecuteTime": {
     "end_time": "2025-05-05T19:21:23.527612Z",
     "start_time": "2025-05-05T19:21:23.506401Z"
    }
   },
   "source": [
    "dados_t2.category.value_counts()"
   ],
   "outputs": [
    {
     "data": {
      "text/plain": [
       "category\n",
       "TRAVEL            9900\n",
       "STYLE & BEAUTY    9814\n",
       "PARENTING         8791\n",
       "HEALTHY LIVING    6694\n",
       "QUEER VOICES      6347\n",
       "FOOD & DRINK      6340\n",
       "BUSINESS          5992\n",
       "COMEDY            5400\n",
       "SPORTS            5077\n",
       "BLACK VOICES      4583\n",
       "HOME & LIVING     4320\n",
       "PARENTS           3955\n",
       "THE WORLDPOST     3664\n",
       "WEDDINGS          3653\n",
       "WOMEN             3572\n",
       "CRIME             3562\n",
       "IMPACT            3484\n",
       "DIVORCE           3426\n",
       "WORLD NEWS        3299\n",
       "MEDIA             2944\n",
       "WEIRD NEWS        2777\n",
       "GREEN             2622\n",
       "WORLDPOST         2579\n",
       "RELIGION          2577\n",
       "STYLE             2254\n",
       "SCIENCE           2206\n",
       "TECH              2104\n",
       "TASTE             2096\n",
       "MONEY             1756\n",
       "ARTS              1509\n",
       "ENVIRONMENT       1444\n",
       "FIFTY             1401\n",
       "GOOD NEWS         1398\n",
       "U.S. NEWS         1377\n",
       "ARTS & CULTURE    1339\n",
       "COLLEGE           1144\n",
       "LATINO VOICES     1130\n",
       "CULTURE & ARTS    1074\n",
       "EDUCATION         1014\n",
       "Name: count, dtype: int64"
      ]
     },
     "execution_count": 23,
     "metadata": {},
     "output_type": "execute_result"
    }
   ],
   "execution_count": 23
  },
  {
   "cell_type": "code",
   "metadata": {
    "ExecuteTime": {
     "end_time": "2025-05-05T19:21:23.653772Z",
     "start_time": "2025-05-05T19:21:23.640794Z"
    }
   },
   "source": [
    "dados_t3.category.value_counts()"
   ],
   "outputs": [
    {
     "data": {
      "text/plain": [
       "category\n",
       "TRAVEL            9900\n",
       "STYLE & BEAUTY    9814\n",
       "PARENTING         8791\n",
       "HEALTHY LIVING    6694\n",
       "QUEER VOICES      6347\n",
       "FOOD & DRINK      6340\n",
       "BUSINESS          5992\n",
       "COMEDY            5400\n",
       "SPORTS            5077\n",
       "Name: count, dtype: int64"
      ]
     },
     "execution_count": 24,
     "metadata": {},
     "output_type": "execute_result"
    }
   ],
   "execution_count": 24
  },
  {
   "cell_type": "markdown",
   "metadata": {},
   "source": [
    "Utilizamos LabelEncoder para transformar os temas dos artigos em fatores numéricos\n",
    "Isto não implica em ordenação ou hierarquia entre os temas, e serve apenas o propósito de adequar o dataset às ferramentas que serão utilizadas."
   ]
  },
  {
   "cell_type": "code",
   "metadata": {
    "ExecuteTime": {
     "end_time": "2025-05-05T19:21:23.857960Z",
     "start_time": "2025-05-05T19:21:23.754970Z"
    }
   },
   "source": [
    "le = LabelEncoder()\n",
    "dados_t1['labels'] = le.fit_transform(dados_t1['category'])\n",
    "dados_t2['labels'] = le.fit_transform(dados_t2['category'])\n",
    "dados_t3['labels'] = le.fit_transform(dados_t3['category'])\n",
    "dados_t1.head()"
   ],
   "outputs": [
    {
     "data": {
      "text/plain": [
       "                                             headline       category  \\\n",
       "20  Golden Globes Returning To NBC In January Afte...  ENTERTAINMENT   \n",
       "21  Biden Says U.S. Forces Would Defend Taiwan If ...       POLITICS   \n",
       "24  ‘Beautiful And Sad At The Same Time’: Ukrainia...       POLITICS   \n",
       "28  James Cameron Says He 'Clashed' With Studio Be...  ENTERTAINMENT   \n",
       "30  Biden Says Queen's Death Left 'Giant Hole' For...       POLITICS   \n",
       "\n",
       "                                    short_description  \\\n",
       "20  For the past 18 months, Hollywood has effectiv...   \n",
       "21  President issues vow as tensions with China rise.   \n",
       "24  An annual celebration took on a different feel...   \n",
       "28  The \"Avatar\" director said aspects of his 2009...   \n",
       "30  U.S. President Joe Biden, in London for the fu...   \n",
       "\n",
       "                                  headline_processado  \\\n",
       "20       golden globes return nbc january year offair   \n",
       "21  biden say us force would defend taiwan china i...   \n",
       "24  beautiful sad time ukrainian cultural festival...   \n",
       "28        jam cameron say clash studio avatar release   \n",
       "30  biden say queen death leave giant hole royal f...   \n",
       "\n",
       "                                      desc_processado  \\\n",
       "20  past months hollywood effectively boycott glob...   \n",
       "21            president issue vow tensions china rise   \n",
       "24  annual celebration take different feel russias...   \n",
       "28  avatar director say aspects movie still compet...   \n",
       "30  us president joe biden london funeral queen el...   \n",
       "\n",
       "                                            texto_tot  labels  \n",
       "20  golden globes return nbc january year offairpa...       0  \n",
       "21  biden say us force would defend taiwan china i...       1  \n",
       "24  beautiful sad time ukrainian cultural festival...       1  \n",
       "28  jam cameron say clash studio avatar releaseava...       0  \n",
       "30  biden say queen death leave giant hole royal f...       1  "
      ],
      "text/html": [
       "<div>\n",
       "<style scoped>\n",
       "    .dataframe tbody tr th:only-of-type {\n",
       "        vertical-align: middle;\n",
       "    }\n",
       "\n",
       "    .dataframe tbody tr th {\n",
       "        vertical-align: top;\n",
       "    }\n",
       "\n",
       "    .dataframe thead th {\n",
       "        text-align: right;\n",
       "    }\n",
       "</style>\n",
       "<table border=\"1\" class=\"dataframe\">\n",
       "  <thead>\n",
       "    <tr style=\"text-align: right;\">\n",
       "      <th></th>\n",
       "      <th>headline</th>\n",
       "      <th>category</th>\n",
       "      <th>short_description</th>\n",
       "      <th>headline_processado</th>\n",
       "      <th>desc_processado</th>\n",
       "      <th>texto_tot</th>\n",
       "      <th>labels</th>\n",
       "    </tr>\n",
       "  </thead>\n",
       "  <tbody>\n",
       "    <tr>\n",
       "      <th>20</th>\n",
       "      <td>Golden Globes Returning To NBC In January Afte...</td>\n",
       "      <td>ENTERTAINMENT</td>\n",
       "      <td>For the past 18 months, Hollywood has effectiv...</td>\n",
       "      <td>golden globes return nbc january year offair</td>\n",
       "      <td>past months hollywood effectively boycott glob...</td>\n",
       "      <td>golden globes return nbc january year offairpa...</td>\n",
       "      <td>0</td>\n",
       "    </tr>\n",
       "    <tr>\n",
       "      <th>21</th>\n",
       "      <td>Biden Says U.S. Forces Would Defend Taiwan If ...</td>\n",
       "      <td>POLITICS</td>\n",
       "      <td>President issues vow as tensions with China rise.</td>\n",
       "      <td>biden say us force would defend taiwan china i...</td>\n",
       "      <td>president issue vow tensions china rise</td>\n",
       "      <td>biden say us force would defend taiwan china i...</td>\n",
       "      <td>1</td>\n",
       "    </tr>\n",
       "    <tr>\n",
       "      <th>24</th>\n",
       "      <td>‘Beautiful And Sad At The Same Time’: Ukrainia...</td>\n",
       "      <td>POLITICS</td>\n",
       "      <td>An annual celebration took on a different feel...</td>\n",
       "      <td>beautiful sad time ukrainian cultural festival...</td>\n",
       "      <td>annual celebration take different feel russias...</td>\n",
       "      <td>beautiful sad time ukrainian cultural festival...</td>\n",
       "      <td>1</td>\n",
       "    </tr>\n",
       "    <tr>\n",
       "      <th>28</th>\n",
       "      <td>James Cameron Says He 'Clashed' With Studio Be...</td>\n",
       "      <td>ENTERTAINMENT</td>\n",
       "      <td>The \"Avatar\" director said aspects of his 2009...</td>\n",
       "      <td>jam cameron say clash studio avatar release</td>\n",
       "      <td>avatar director say aspects movie still compet...</td>\n",
       "      <td>jam cameron say clash studio avatar releaseava...</td>\n",
       "      <td>0</td>\n",
       "    </tr>\n",
       "    <tr>\n",
       "      <th>30</th>\n",
       "      <td>Biden Says Queen's Death Left 'Giant Hole' For...</td>\n",
       "      <td>POLITICS</td>\n",
       "      <td>U.S. President Joe Biden, in London for the fu...</td>\n",
       "      <td>biden say queen death leave giant hole royal f...</td>\n",
       "      <td>us president joe biden london funeral queen el...</td>\n",
       "      <td>biden say queen death leave giant hole royal f...</td>\n",
       "      <td>1</td>\n",
       "    </tr>\n",
       "  </tbody>\n",
       "</table>\n",
       "</div>"
      ]
     },
     "execution_count": 25,
     "metadata": {},
     "output_type": "execute_result"
    }
   ],
   "execution_count": 25
  },
  {
   "cell_type": "markdown",
   "metadata": {},
   "source": [
    "Divisão em conjuntos de treino e teste para as 3 divisões do conjunto original."
   ]
  },
  {
   "cell_type": "code",
   "metadata": {
    "ExecuteTime": {
     "end_time": "2025-05-05T19:21:24.110949Z",
     "start_time": "2025-05-05T19:21:23.918862Z"
    }
   },
   "source": [
    "train_X1, test_X1, train_Y1, test_Y1 = train_test_split(\n",
    "    dados_t1[['headline', 'short_description', 'headline_processado', 'desc_processado', 'texto_tot']],\n",
    "    dados_t1['labels'],\n",
    "    test_size = 0.1,\n",
    "    random_state = 42,\n",
    ")\n",
    "\n",
    "train_X2, test_X2, train_Y2, test_Y2 = train_test_split(\n",
    "    dados_t2[['headline', 'short_description', 'headline_processado', 'desc_processado', 'texto_tot']],\n",
    "    dados_t2['labels'],\n",
    "    test_size = 0.1,\n",
    "    random_state = 42,\n",
    ")\n",
    "\n",
    "train_X3, test_X3, train_Y3, test_Y3 = train_test_split(\n",
    "    dados_t3[['headline', 'short_description', 'headline_processado', 'desc_processado', 'texto_tot']],\n",
    "    dados_t3['labels'],\n",
    "    test_size = 0.1,\n",
    "    random_state = 42,\n",
    ")"
   ],
   "outputs": [],
   "execution_count": 26
  },
  {
   "cell_type": "markdown",
   "metadata": {},
   "source": [
    "## Conjunto 1 - Três principais"
   ]
  },
  {
   "cell_type": "markdown",
   "metadata": {},
   "source": [
    "Criação de um vetor *tf-idf* para a descrição, titulo, e descrição + titulo juntos"
   ]
  },
  {
   "cell_type": "markdown",
   "metadata": {},
   "source": [
    "#### Para descrição:"
   ]
  },
  {
   "cell_type": "code",
   "metadata": {
    "ExecuteTime": {
     "end_time": "2025-05-05T19:21:26.381821Z",
     "start_time": "2025-05-05T19:21:24.141555Z"
    }
   },
   "source": [
    "tfidf_vector1desc = TfidfVectorizer()\n",
    "tfidf_vector1desc.fit(dados_t1['desc_processado'])\n",
    "\n",
    "train_X_tfidf_1desc = tfidf_vector1desc.transform(train_X1['desc_processado'])\n",
    "test_X_tfidf_1desc = tfidf_vector1desc.transform(test_X1['desc_processado'])\n",
    "\n",
    "dados_principais_tfidf_1desc = tfidf_vector1desc.transform(dados_t1['desc_processado'])"
   ],
   "outputs": [],
   "execution_count": 27
  },
  {
   "cell_type": "markdown",
   "metadata": {},
   "source": [
    "#### Para título:"
   ]
  },
  {
   "cell_type": "code",
   "metadata": {
    "ExecuteTime": {
     "end_time": "2025-05-05T19:21:27.858462Z",
     "start_time": "2025-05-05T19:21:26.385734Z"
    }
   },
   "source": [
    "tfidf_vector1title = TfidfVectorizer()\n",
    "tfidf_vector1title.fit(dados_t1['headline_processado'])\n",
    "\n",
    "train_X_tfidf_1title = tfidf_vector1title.transform(train_X1['headline_processado'])\n",
    "test_X_tfidf_1title = tfidf_vector1title.transform(test_X1['headline_processado'])\n",
    "\n",
    "dados_principais_tfidf_1title = tfidf_vector1title.transform(dados_t1['headline_processado'])"
   ],
   "outputs": [],
   "execution_count": 28
  },
  {
   "cell_type": "markdown",
   "metadata": {},
   "source": [
    "#### Para descrição + título:"
   ]
  },
  {
   "cell_type": "code",
   "metadata": {
    "ExecuteTime": {
     "end_time": "2025-05-05T19:21:31.099753Z",
     "start_time": "2025-05-05T19:21:27.882146Z"
    }
   },
   "source": [
    "tfidf_vector1full = TfidfVectorizer()\n",
    "tfidf_vector1full.fit(dados_t1['texto_tot'])\n",
    "\n",
    "train_X_tfidf_1full = tfidf_vector1full.transform(train_X1['texto_tot'])\n",
    "test_X_tfidf_1full = tfidf_vector1full.transform(test_X1['texto_tot'])\n",
    "\n",
    "dados_principais_tfidf_1full = tfidf_vector1full.transform(dados_t1['texto_tot'])"
   ],
   "outputs": [],
   "execution_count": 29
  },
  {
   "cell_type": "markdown",
   "metadata": {},
   "source": [
    "#### <span style=\"color:red\">Veja a seguir que não foi possível aplicar Naive Bayes devido ao tamanho do conjunto!</span>\n"
   ]
  },
  {
   "cell_type": "code",
   "metadata": {
    "ExecuteTime": {
     "end_time": "2025-05-05T19:21:31.519956Z",
     "start_time": "2025-05-05T19:21:31.124485Z"
    }
   },
   "source": [
    "nb = GaussianNB()\n",
    "nb.fit(train_X_tfidf_1desc.toarray(), train_Y1)\n",
    "predictions_nb = nb.predict(test_X_tfidf_1desc.toarray())\n",
    "acuracia = accuracy_score(predictions_nb, test_Y1)\n",
    "print(f\"Naive Bayes: {acuracia*100:.3f}%\")"
   ],
   "outputs": [
    {
     "ename": "MemoryError",
     "evalue": "Unable to allocate 18.5 GiB for an array with shape (63818, 38933) and data type float64",
     "output_type": "error",
     "traceback": [
      "\u001B[1;31m---------------------------------------------------------------------------\u001B[0m",
      "\u001B[1;31mMemoryError\u001B[0m                               Traceback (most recent call last)",
      "Cell \u001B[1;32mIn[30], line 2\u001B[0m\n\u001B[0;32m      1\u001B[0m nb \u001B[38;5;241m=\u001B[39m GaussianNB()\n\u001B[1;32m----> 2\u001B[0m nb\u001B[38;5;241m.\u001B[39mfit(train_X_tfidf_1desc\u001B[38;5;241m.\u001B[39mtoarray(), train_Y1)\n\u001B[0;32m      3\u001B[0m predictions_nb \u001B[38;5;241m=\u001B[39m nb\u001B[38;5;241m.\u001B[39mpredict(test_X_tfidf_1desc\u001B[38;5;241m.\u001B[39mtoarray())\n\u001B[0;32m      4\u001B[0m acuracia \u001B[38;5;241m=\u001B[39m accuracy_score(predictions_nb, test_Y1)\n",
      "File \u001B[1;32m~\\miniconda3\\Lib\\site-packages\\scipy\\sparse\\_compressed.py:1170\u001B[0m, in \u001B[0;36m_cs_matrix.toarray\u001B[1;34m(self, order, out)\u001B[0m\n\u001B[0;32m   1168\u001B[0m \u001B[38;5;28;01mif\u001B[39;00m out \u001B[38;5;129;01mis\u001B[39;00m \u001B[38;5;28;01mNone\u001B[39;00m \u001B[38;5;129;01mand\u001B[39;00m order \u001B[38;5;129;01mis\u001B[39;00m \u001B[38;5;28;01mNone\u001B[39;00m:\n\u001B[0;32m   1169\u001B[0m     order \u001B[38;5;241m=\u001B[39m \u001B[38;5;28mself\u001B[39m\u001B[38;5;241m.\u001B[39m_swap(\u001B[38;5;124m'\u001B[39m\u001B[38;5;124mcf\u001B[39m\u001B[38;5;124m'\u001B[39m)[\u001B[38;5;241m0\u001B[39m]\n\u001B[1;32m-> 1170\u001B[0m out \u001B[38;5;241m=\u001B[39m \u001B[38;5;28mself\u001B[39m\u001B[38;5;241m.\u001B[39m_process_toarray_args(order, out)\n\u001B[0;32m   1171\u001B[0m \u001B[38;5;28;01mif\u001B[39;00m \u001B[38;5;129;01mnot\u001B[39;00m (out\u001B[38;5;241m.\u001B[39mflags\u001B[38;5;241m.\u001B[39mc_contiguous \u001B[38;5;129;01mor\u001B[39;00m out\u001B[38;5;241m.\u001B[39mflags\u001B[38;5;241m.\u001B[39mf_contiguous):\n\u001B[0;32m   1172\u001B[0m     \u001B[38;5;28;01mraise\u001B[39;00m \u001B[38;5;167;01mValueError\u001B[39;00m(\u001B[38;5;124m'\u001B[39m\u001B[38;5;124mOutput array must be C or F contiguous\u001B[39m\u001B[38;5;124m'\u001B[39m)\n",
      "File \u001B[1;32m~\\miniconda3\\Lib\\site-packages\\scipy\\sparse\\_base.py:1367\u001B[0m, in \u001B[0;36m_spbase._process_toarray_args\u001B[1;34m(self, order, out)\u001B[0m\n\u001B[0;32m   1365\u001B[0m     \u001B[38;5;28;01mreturn\u001B[39;00m out\n\u001B[0;32m   1366\u001B[0m \u001B[38;5;28;01melse\u001B[39;00m:\n\u001B[1;32m-> 1367\u001B[0m     \u001B[38;5;28;01mreturn\u001B[39;00m np\u001B[38;5;241m.\u001B[39mzeros(\u001B[38;5;28mself\u001B[39m\u001B[38;5;241m.\u001B[39mshape, dtype\u001B[38;5;241m=\u001B[39m\u001B[38;5;28mself\u001B[39m\u001B[38;5;241m.\u001B[39mdtype, order\u001B[38;5;241m=\u001B[39morder)\n",
      "\u001B[1;31mMemoryError\u001B[0m: Unable to allocate 18.5 GiB for an array with shape (63818, 38933) and data type float64"
     ]
    }
   ],
   "execution_count": 30
  },
  {
   "cell_type": "markdown",
   "metadata": {},
   "source": [
    "#### Aplicando SVM"
   ]
  },
  {
   "cell_type": "markdown",
   "metadata": {},
   "source": [
    "#### Para descrição"
   ]
  },
  {
   "cell_type": "code",
   "metadata": {
    "ExecuteTime": {
     "end_time": "2025-05-05T19:31:11.291397Z",
     "start_time": "2025-05-05T19:23:05.571223Z"
    }
   },
   "source": [
    "svm = SVC(C=1.0, kernel='linear', degree=3, gamma='auto')\n",
    "svm.fit(train_X_tfidf_1desc, train_Y1)\n",
    "predictions_svm = svm.predict(test_X_tfidf_1desc)\n",
    "desc_acc1 = accuracy_score(predictions_svm, test_Y1)\n",
    "print(f\"Acurácia SVM: {desc_acc1*100:.3f}%\")"
   ],
   "outputs": [
    {
     "name": "stdout",
     "output_type": "stream",
     "text": [
      "Acurácia SVM: 82.259%\n"
     ]
    }
   ],
   "execution_count": 31
  },
  {
   "cell_type": "markdown",
   "metadata": {},
   "source": [
    "#### Para título"
   ]
  },
  {
   "cell_type": "code",
   "metadata": {
    "ExecuteTime": {
     "end_time": "2025-05-05T19:35:29.074199Z",
     "start_time": "2025-05-05T19:31:11.406098Z"
    }
   },
   "source": [
    "svm = SVC(C=1.0, kernel='linear', degree=3, gamma='auto')\n",
    "svm.fit(train_X_tfidf_1title, train_Y1)\n",
    "predictions_svm = svm.predict(test_X_tfidf_1title)\n",
    "title_acc1 = accuracy_score(predictions_svm, test_Y1)\n",
    "print(f\"Acurácia SVM: {title_acc1*100:.3f}%\")"
   ],
   "outputs": [
    {
     "name": "stdout",
     "output_type": "stream",
     "text": [
      "Acurácia SVM: 91.398%\n"
     ]
    }
   ],
   "execution_count": 32
  },
  {
   "cell_type": "markdown",
   "metadata": {},
   "source": [
    "#### Para descrição + título"
   ]
  },
  {
   "cell_type": "code",
   "metadata": {
    "ExecuteTime": {
     "end_time": "2025-05-05T19:45:25.605272Z",
     "start_time": "2025-05-05T19:35:29.108694Z"
    }
   },
   "source": [
    "svm = SVC(C=1.0, kernel='linear', degree=3, gamma='auto')\n",
    "svm.fit(train_X_tfidf_1full, train_Y1)\n",
    "predictions_svm = svm.predict(test_X_tfidf_1full)\n",
    "full_acc1 = accuracy_score(predictions_svm, test_Y1)\n",
    "print(f\"Acurácia SVM: {full_acc1*100:.3f}%\")"
   ],
   "outputs": [
    {
     "name": "stdout",
     "output_type": "stream",
     "text": [
      "Acurácia SVM: 93.485%\n"
     ]
    }
   ],
   "execution_count": 33
  },
  {
   "cell_type": "code",
   "metadata": {
    "ExecuteTime": {
     "end_time": "2025-05-05T19:45:26.186489Z",
     "start_time": "2025-05-05T19:45:25.689574Z"
    }
   },
   "source": [
    "fig, ax = plt.subplots(figsize=(10, 5))\n",
    "categorias = ['Conjunto 1 - Três principais']\n",
    "x = np.arange(len(categorias))\n",
    "width = 0.25\n",
    "\n",
    "# uma barra para cada estratégia\n",
    "rects1 = ax.bar(x - width, desc_acc1, width, label='Descrição')\n",
    "rects2 = ax.bar(x, title_acc1, width, label='Título')\n",
    "rects3 = ax.bar(x + width, full_acc1, width, label='Descrição + Título')\n",
    "\n",
    "# rotulos + título\n",
    "ax.set_ylabel('Acurácia (%)')\n",
    "ax.set_title('Acurácia X Conjunto de Dados e Características')\n",
    "ax.set_xticks(x)\n",
    "ax.set_xticklabels(categorias)\n",
    "ax.legend()\n",
    "\n",
    "# adicionando os valores no topo das barras\n",
    "def add_labels(rects):\n",
    "    for rect in rects:\n",
    "        height = rect.get_height()\n",
    "        ax.annotate(f'{height:.2f}',\n",
    "                    xy=(rect.get_x() + rect.get_width() / 2, height),\n",
    "                    xytext=(0, 3),\n",
    "                    textcoords=\"offset points\",\n",
    "                    ha='center', va='bottom')\n",
    "\n",
    "add_labels(rects1)\n",
    "add_labels(rects2)\n",
    "add_labels(rects3)\n",
    "\n",
    "plt.show()"
   ],
   "outputs": [
    {
     "data": {
      "text/plain": [
       "<Figure size 1000x500 with 1 Axes>"
      ],
      "image/png": "[encoded data removed]"
     },
     "metadata": {},
     "output_type": "display_data"
    }
   ],
   "execution_count": 34
  },
  {
   "cell_type": "markdown",
   "metadata": {},
   "source": [
    "## Conjunto 2 - Todos menos os três principais"
   ]
  },
  {
   "cell_type": "markdown",
   "metadata": {},
   "source": [
    "Criação de um vetor *tf-idf* para a descrição, titulo, e descrição + titulo juntos"
   ]
  },
  {
   "cell_type": "markdown",
   "metadata": {},
   "source": [
    "#### Para descrição"
   ]
  },
  {
   "cell_type": "code",
   "metadata": {
    "ExecuteTime": {
     "end_time": "2025-05-05T19:45:30.289820Z",
     "start_time": "2025-05-05T19:45:26.211834Z"
    }
   },
   "source": [
    "tfidf_vector2desc = TfidfVectorizer()\n",
    "tfidf_vector2desc.fit(dados_t2['desc_processado'])\n",
    "\n",
    "train_X_tfidf_2desc = tfidf_vector2desc.transform(train_X2['desc_processado'])\n",
    "test_X_tfidf_2desc = tfidf_vector2desc.transform(test_X2['desc_processado'])\n",
    "\n",
    "dados_principais_tfidf_2desc = tfidf_vector2desc.transform(dados_t2['desc_processado'])"
   ],
   "outputs": [],
   "execution_count": 35
  },
  {
   "cell_type": "markdown",
   "metadata": {},
   "source": [
    "#### Para título"
   ]
  },
  {
   "cell_type": "code",
   "metadata": {
    "ExecuteTime": {
     "end_time": "2025-05-05T19:45:33.087155Z",
     "start_time": "2025-05-05T19:45:30.315255Z"
    }
   },
   "source": [
    "tfidf_vector2title = TfidfVectorizer()\n",
    "tfidf_vector2title.fit(dados_t2['headline_processado'])\n",
    "\n",
    "train_X_tfidf_2title = tfidf_vector2title.transform(train_X2['headline_processado'])\n",
    "test_X_tfidf_2title = tfidf_vector2title.transform(test_X2['headline_processado'])\n",
    "\n",
    "dados_principais_tfidf_2title = tfidf_vector2title.transform(dados_t2['headline_processado'])"
   ],
   "outputs": [],
   "execution_count": 36
  },
  {
   "cell_type": "markdown",
   "metadata": {},
   "source": [
    "#### Para descrição + título"
   ]
  },
  {
   "cell_type": "code",
   "metadata": {
    "ExecuteTime": {
     "end_time": "2025-05-05T19:45:39.231856Z",
     "start_time": "2025-05-05T19:45:33.113241Z"
    }
   },
   "source": [
    "tfidf_vector2full = TfidfVectorizer()\n",
    "tfidf_vector2full.fit(dados_t2['texto_tot'])\n",
    "\n",
    "train_X_tfidf_2full = tfidf_vector2full.transform(train_X2['texto_tot'])\n",
    "test_X_tfidf_2full = tfidf_vector2full.transform(test_X2['texto_tot'])\n",
    "\n",
    "dados_principais_tfidf_2full = tfidf_vector2full.transform(dados_t2['texto_tot'])"
   ],
   "outputs": [],
   "execution_count": 37
  },
  {
   "cell_type": "markdown",
   "metadata": {},
   "source": [
    "### Aplicando o modelo:"
   ]
  },
  {
   "cell_type": "markdown",
   "metadata": {},
   "source": [
    "#### Para descrição"
   ]
  },
  {
   "cell_type": "code",
   "metadata": {
    "ExecuteTime": {
     "end_time": "2025-05-05T20:18:14.472028Z",
     "start_time": "2025-05-05T19:45:39.259345Z"
    }
   },
   "source": [
    "svm = SVC(C=1.0, kernel='linear', degree=3, gamma='auto')\n",
    "svm.fit(train_X_tfidf_2desc, train_Y2)\n",
    "predictions_svm = svm.predict(test_X_tfidf_2desc)\n",
    "desc_acc2 = accuracy_score(predictions_svm, test_Y2)\n",
    "print(f\"Acurácia SVM: {desc_acc2*100:.3f}%\")"
   ],
   "outputs": [
    {
     "name": "stdout",
     "output_type": "stream",
     "text": [
      "Acurácia SVM: 39.771%\n"
     ]
    }
   ],
   "execution_count": 38
  },
  {
   "cell_type": "markdown",
   "metadata": {},
   "source": [
    "#### Para título"
   ]
  },
  {
   "cell_type": "code",
   "metadata": {
    "ExecuteTime": {
     "end_time": "2025-05-05T20:37:27.623363Z",
     "start_time": "2025-05-05T20:18:14.559819Z"
    }
   },
   "source": [
    "svm = SVC(C=1.0, kernel='linear', degree=3, gamma='auto')\n",
    "svm.fit(train_X_tfidf_2title, train_Y2)\n",
    "predictions_svm = svm.predict(test_X_tfidf_2title)\n",
    "title_acc2 = accuracy_score(predictions_svm, test_Y2)\n",
    "print(f\"Acurácia SVM: {title_acc2*100:.3f}%\")"
   ],
   "outputs": [
    {
     "name": "stdout",
     "output_type": "stream",
     "text": [
      "Acurácia SVM: 57.019%\n"
     ]
    }
   ],
   "execution_count": 39
  },
  {
   "cell_type": "markdown",
   "metadata": {},
   "source": [
    "#### Para descrição + título"
   ]
  },
  {
   "cell_type": "code",
   "metadata": {
    "ExecuteTime": {
     "end_time": "2025-05-05T21:19:24.713376Z",
     "start_time": "2025-05-05T20:37:27.655141Z"
    }
   },
   "source": [
    "svm = SVC(C=1.0, kernel='linear', degree=3, gamma='auto')\n",
    "svm.fit(train_X_tfidf_2full, train_Y2)\n",
    "predictions_svm = svm.predict(test_X_tfidf_2full)\n",
    "full_acc2 = accuracy_score(predictions_svm, test_Y2)\n",
    "print(f\"Acurácia SVM: {full_acc2*100:.3f}%\")"
   ],
   "outputs": [
    {
     "name": "stdout",
     "output_type": "stream",
     "text": [
      "Acurácia SVM: 57.553%\n"
     ]
    }
   ],
   "execution_count": 40
  },
  {
   "cell_type": "code",
   "metadata": {
    "ExecuteTime": {
     "end_time": "2025-05-05T21:19:24.943619Z",
     "start_time": "2025-05-05T21:19:24.804639Z"
    }
   },
   "source": [
    "fig, ax = plt.subplots(figsize=(10, 5))\n",
    "categorias = ['Conjunto 2 - Todos menos os três principais']\n",
    "x = np.arange(len(categorias))\n",
    "width = 0.25\n",
    "\n",
    "# uma barra para cada estratégia\n",
    "rects1 = ax.bar(x - width, desc_acc2, width, label='Descrição')\n",
    "rects2 = ax.bar(x, title_acc2, width, label='Título')\n",
    "rects3 = ax.bar(x + width, full_acc2, width, label='Descrição + Título')\n",
    "\n",
    "# rotulos + título\n",
    "ax.set_ylabel('Acurácia (%)')\n",
    "ax.set_title('Acurácia X Conjunto de Dados e Características')\n",
    "ax.set_xticks(x)\n",
    "ax.set_xticklabels(categorias)\n",
    "ax.legend()\n",
    "\n",
    "# adicionando os valores no topo das barras\n",
    "def add_labels(rects):\n",
    "    for rect in rects:\n",
    "        height = rect.get_height()\n",
    "        ax.annotate(f'{height:.2f}',\n",
    "                    xy=(rect.get_x() + rect.get_width() / 2, height),\n",
    "                    xytext=(0, 3),\n",
    "                    textcoords=\"offset points\",\n",
    "                    ha='center', va='bottom')\n",
    "\n",
    "add_labels(rects1)\n",
    "add_labels(rects2)\n",
    "add_labels(rects3)\n",
    "\n",
    "plt.show()"
   ],
   "outputs": [
    {
     "data": {
      "text/plain": [
       "<Figure size 1000x500 with 1 Axes>"
      ],
      "image/png": "[encoded data removed]"
     },
     "metadata": {},
     "output_type": "display_data"
    }
   ],
   "execution_count": 41
  },
  {
   "cell_type": "markdown",
   "metadata": {},
   "source": [
    "## Conjunto 3 - 9 pricipais temas do Conjunto 2"
   ]
  },
  {
   "cell_type": "markdown",
   "metadata": {},
   "source": [
    "Criação de um vetor *tf-idf* para a descrição, titulo, e descrição + titulo juntos"
   ]
  },
  {
   "cell_type": "markdown",
   "metadata": {},
   "source": [
    "#### Para descrição"
   ]
  },
  {
   "cell_type": "code",
   "metadata": {
    "ExecuteTime": {
     "end_time": "2025-05-05T21:19:27.096769Z",
     "start_time": "2025-05-05T21:19:24.970884Z"
    }
   },
   "source": [
    "tfidf_vector3desc = TfidfVectorizer()\n",
    "tfidf_vector3desc.fit(dados_t3['desc_processado'])\n",
    "\n",
    "train_X_tfidf_3desc = tfidf_vector3desc.transform(train_X3['desc_processado'])\n",
    "test_X_tfidf_3desc = tfidf_vector3desc.transform(test_X3['desc_processado'])\n",
    "\n",
    "dados_principais_tfidf_3desc = tfidf_vector3desc.transform(dados_t3['desc_processado'])"
   ],
   "outputs": [],
   "execution_count": 42
  },
  {
   "cell_type": "markdown",
   "metadata": {},
   "source": [
    "#### Para título"
   ]
  },
  {
   "cell_type": "code",
   "metadata": {
    "ExecuteTime": {
     "end_time": "2025-05-05T21:19:28.478866Z",
     "start_time": "2025-05-05T21:19:27.123660Z"
    }
   },
   "source": [
    "tfidf_vector3title = TfidfVectorizer()\n",
    "tfidf_vector3title.fit(dados_t3['headline_processado'])\n",
    "\n",
    "train_X_tfidf_3title = tfidf_vector3title.transform(train_X3['headline_processado'])\n",
    "test_X_tfidf_3title = tfidf_vector3title.transform(test_X3['headline_processado'])\n",
    "\n",
    "dados_principais_tfidf_3title = tfidf_vector3title.transform(dados_t3['headline_processado'])"
   ],
   "outputs": [],
   "execution_count": 43
  },
  {
   "cell_type": "markdown",
   "metadata": {},
   "source": [
    "#### Para descrição + título"
   ]
  },
  {
   "cell_type": "code",
   "metadata": {
    "ExecuteTime": {
     "end_time": "2025-05-05T21:19:31.501962Z",
     "start_time": "2025-05-05T21:19:28.506115Z"
    }
   },
   "source": [
    "tfidf_vector3full = TfidfVectorizer()\n",
    "tfidf_vector3full.fit(dados_t3['texto_tot'])\n",
    "\n",
    "train_X_tfidf_3full = tfidf_vector3full.transform(train_X3['texto_tot'])\n",
    "test_X_tfidf_3full = tfidf_vector3full.transform(test_X3['texto_tot'])\n",
    "\n",
    "dados_principais_tfidf_3full = tfidf_vector3full.transform(dados_t3['texto_tot'])"
   ],
   "outputs": [],
   "execution_count": 44
  },
  {
   "cell_type": "markdown",
   "metadata": {},
   "source": [
    "### Aplicando o modelo:"
   ]
  },
  {
   "cell_type": "markdown",
   "metadata": {},
   "source": [
    "#### Para descrição"
   ]
  },
  {
   "cell_type": "code",
   "metadata": {
    "ExecuteTime": {
     "end_time": "2025-05-05T21:25:29.267220Z",
     "start_time": "2025-05-05T21:19:31.529562Z"
    }
   },
   "source": [
    "svm = SVC(C=1.0, kernel='linear', degree=3, gamma='auto')\n",
    "svm.fit(train_X_tfidf_3desc, train_Y3)\n",
    "predictions_svm = svm.predict(test_X_tfidf_3desc)\n",
    "desc_acc3 = accuracy_score(predictions_svm, test_Y3)\n",
    "print(f\"Acurácia SVM: {desc_acc3*100:.3f}%\")"
   ],
   "outputs": [
    {
     "name": "stdout",
     "output_type": "stream",
     "text": [
      "Acurácia SVM: 61.234%\n"
     ]
    }
   ],
   "execution_count": 45
  },
  {
   "cell_type": "markdown",
   "metadata": {},
   "source": [
    "#### Para título"
   ]
  },
  {
   "cell_type": "code",
   "metadata": {
    "ExecuteTime": {
     "end_time": "2025-05-05T21:28:18.865786Z",
     "start_time": "2025-05-05T21:25:29.297804Z"
    }
   },
   "source": [
    "svm = SVC(C=1.0, kernel='linear', degree=3, gamma='auto')\n",
    "svm.fit(train_X_tfidf_3title, train_Y3)\n",
    "predictions_svm = svm.predict(test_X_tfidf_3title)\n",
    "title_acc3 = accuracy_score(predictions_svm, test_Y3)\n",
    "print(f\"Acurácia SVM: {title_acc3*100:.3f}%\")"
   ],
   "outputs": [
    {
     "name": "stdout",
     "output_type": "stream",
     "text": [
      "Acurácia SVM: 78.372%\n"
     ]
    }
   ],
   "execution_count": 46
  },
  {
   "cell_type": "markdown",
   "metadata": {},
   "source": [
    "#### Para descrição + título"
   ]
  },
  {
   "cell_type": "code",
   "metadata": {
    "ExecuteTime": {
     "end_time": "2025-05-05T21:35:38.686824Z",
     "start_time": "2025-05-05T21:28:18.896474Z"
    }
   },
   "source": [
    "svm = SVC(C=1.0, kernel='linear', degree=3, gamma='auto')\n",
    "svm.fit(train_X_tfidf_3full, train_Y3)\n",
    "predictions_svm = svm.predict(test_X_tfidf_3full)\n",
    "full_acc3 = accuracy_score(predictions_svm, test_Y3)\n",
    "print(f\"Acurácia SVM: {full_acc3*100:.3f}%\")"
   ],
   "outputs": [
    {
     "name": "stdout",
     "output_type": "stream",
     "text": [
      "Acurácia SVM: 79.490%\n"
     ]
    }
   ],
   "execution_count": 47
  },
  {
   "cell_type": "code",
   "metadata": {
    "ExecuteTime": {
     "end_time": "2025-05-05T21:35:38.849758Z",
     "start_time": "2025-05-05T21:35:38.716409Z"
    }
   },
   "source": [
    "fig, ax = plt.subplots(figsize=(10, 5))\n",
    "categorias = ['Conjunto 3 - 9 pricipais temas do Conjunto 2']\n",
    "x = np.arange(len(categorias))\n",
    "width = 0.25\n",
    "\n",
    "# uma barra para cada estratégia\n",
    "rects1 = ax.bar(x - width, desc_acc3, width, label='Descrição')\n",
    "rects2 = ax.bar(x, title_acc3, width, label='Título')\n",
    "rects3 = ax.bar(x + width, full_acc3, width, label='Descrição + Título')\n",
    "\n",
    "# rotulos + título\n",
    "ax.set_ylabel('Acurácia (%)')\n",
    "ax.set_title('Acurácia X Conjunto de Dados e Características')\n",
    "ax.set_xticks(x)\n",
    "ax.set_xticklabels(categorias)\n",
    "ax.legend()\n",
    "\n",
    "# adicionando os valores no topo das barras\n",
    "def add_labels(rects):\n",
    "    for rect in rects:\n",
    "        height = rect.get_height()\n",
    "        ax.annotate(f'{height:.2f}',\n",
    "                    xy=(rect.get_x() + rect.get_width() / 2, height),\n",
    "                    xytext=(0, 3),\n",
    "                    textcoords=\"offset points\",\n",
    "                    ha='center', va='bottom')\n",
    "\n",
    "add_labels(rects1)\n",
    "add_labels(rects2)\n",
    "add_labels(rects3)\n",
    "\n",
    "plt.show()"
   ],
   "outputs": [
    {
     "data": {
      "text/plain": [
       "<Figure size 1000x500 with 1 Axes>"
      ],
      "image/png": "[encoded data removed]"
     },
     "metadata": {},
     "output_type": "display_data"
    }
   ],
   "execution_count": 48
  },
  {
   "cell_type": "markdown",
   "metadata": {},
   "source": [
    "## Conclusão\n",
    "\n",
    "Após a análise dos três conjuntos de dados com diferentes estratégias de processamento de texto, podemos observar:\n",
    "\n",
    "1. **Conjunto 1 (Três principais temas)**:\n",
    "   - Melhor desempenho geral, com acurácia superior a 80% em todas as abordagens\n",
    "   - A combinação de descrição + título obteve o melhor resultado\n",
    "   - Isso sugere que temas mais amplos são mais facilmente distinguíveis\n",
    "\n",
    "2. **Conjunto 2 (Todos menos os três principais)**:\n",
    "   - Desempenho mais baixo em comparação com o Conjunto 1\n",
    "   - Maior complexidade devido ao número de categorias\n",
    "   - A diferença entre usar apenas título ou apenas descrição é menor\n",
    "\n",
    "3. **Conjunto 3 (9 principais temas do Conjunto 2)**:\n",
    "   - Desempenho intermediário\n",
    "   - Melhor que o Conjunto 2 completo, mas inferior ao Conjunto 1\n",
    "   - Demonstra que reduzir o número de categorias melhora a precisão\n",
    "\n",
    "**Observações Gerais:**\n",
    "- A combinação de título e descrição consistentemente oferece os melhores resultados\n",
    "- Quanto menor o número de categorias, melhor o desempenho do classificador\n",
    "- O SVM mostrou-se eficaz para esta tarefa de classificação multiclasse\n",
    "- A diferença de desempenho entre usar apenas título ou apenas descrição varia conforme o conjunto"
   ]
  },
  {
   "cell_type": "code",
   "metadata": {
    "ExecuteTime": {
     "end_time": "2025-05-05T21:35:39.076717Z",
     "start_time": "2025-05-05T21:35:38.877230Z"
    }
   },
   "source": [
    "fig, ax = plt.subplots(figsize=(15, 7))\n",
    "categorias = ['Conjunto 1\\n(3 principais)', 'Conjunto 2\\n(Todos - 3)', 'Conjunto 3\\n(9 principais do C2)']\n",
    "x = np.arange(len(categorias))\n",
    "width = 0.25\n",
    "\n",
    "desc_accuracies = [desc_acc1, desc_acc2, desc_acc3]\n",
    "title_accuracies = [title_acc1, title_acc2, title_acc3]\n",
    "full_accuracies = [full_acc1, full_acc2, full_acc3]\n",
    "\n",
    "rects1 = ax.bar(x - width, desc_accuracies, width, label='Descrição')\n",
    "rects2 = ax.bar(x, title_accuracies, width, label='Título')\n",
    "rects3 = ax.bar(x + width, full_accuracies, width, label='Descrição + Título')\n",
    "\n",
    "ax.set_ylabel('Acurácia (%)')\n",
    "ax.set_title('Comparação de Acurácia entre os Três Conjuntos')\n",
    "ax.set_xticks(x)\n",
    "ax.set_xticklabels(categorias)\n",
    "ax.legend()\n",
    "\n",
    "def add_labels(rects):\n",
    "    for rect in rects:\n",
    "        height = rect.get_height()\n",
    "        ax.annotate(f'{height:.2%}',\n",
    "                    xy=(rect.get_x() + rect.get_width() / 2, height),\n",
    "                    xytext=(0, 3),\n",
    "                    textcoords=\"offset points\",\n",
    "                    ha='center', va='bottom')\n",
    "\n",
    "add_labels(rects1)\n",
    "add_labels(rects2)\n",
    "add_labels(rects3)\n",
    "\n",
    "plt.tight_layout()\n",
    "plt.show()"
   ],
   "outputs": [
    {
     "data": {
      "text/plain": [
       "<Figure size 1500x700 with 1 Axes>"
      ],
      "image/png": "[encoded data removed]"
     },
     "metadata": {},
     "output_type": "display_data"
    }
   ],
   "execution_count": 49
  }
 ],
 "metadata": {
  "colab": {
   "collapsed_sections": [],
   "name": "pessoa.ipynb",
   "provenance": []
  },
  "kernelspec": {
   "display_name": "venv",
   "language": "python",
   "name": "python3"
  },
  "language_info": {
   "codemirror_mode": {
    "name": "ipython",
    "version": 3
   },
   "file_extension": ".py",
   "mimetype": "text/x-python",
   "name": "python",
   "nbconvert_exporter": "python",
   "pygments_lexer": "ipython3",
   "version": "3.13.3"
  }
 },
 "nbformat": 4,
 "nbformat_minor": 4
}
