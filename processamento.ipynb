{
 "cells": [
  {
   "cell_type": "code",
   "execution_count": 2,
   "metadata": {
    "ExecuteTime": {
     "end_time": "2025-05-02T16:41:28.619315Z",
     "start_time": "2025-05-02T16:41:24.581423Z"
    },
    "colab": {
     "base_uri": "https://localhost:8080/",
     "height": 71
    },
    "colab_type": "code",
    "executionInfo": {
     "elapsed": 1192,
     "status": "ok",
     "timestamp": 1573684847920,
     "user": {
      "displayName": "Fernando Matsumoto",
      "photoUrl": "",
      "userId": "02497909482286168309"
     },
     "user_tz": 120
    },
    "id": "huhOdj9WJL-k",
    "outputId": "eed756fd-c641-4aae-da86-6bb723067c82"
   },
   "outputs": [
    {
     "name": "stderr",
     "output_type": "stream",
     "text": [
      "[nltk_data] Downloading package wordnet to\n",
      "[nltk_data]     /Users/gustavo.ventino/nltk_data...\n",
      "[nltk_data]   Package wordnet is already up-to-date!\n",
      "[nltk_data] Downloading package stopwords to\n",
      "[nltk_data]     /Users/gustavo.ventino/nltk_data...\n",
      "[nltk_data]   Package stopwords is already up-to-date!\n"
     ]
    }
   ],
   "source": [
    "import re\n",
    "\n",
    "import pandas as pd\n",
    "import numpy as np\n",
    "import matplotlib.pyplot as plt\n",
    "from tqdm import tqdm\n",
    "\n",
    "from sklearn.naive_bayes import GaussianNB\n",
    "from sklearn.decomposition import PCA\n",
    "from sklearn.feature_extraction.text import TfidfVectorizer\n",
    "from sklearn.metrics import accuracy_score\n",
    "from sklearn.model_selection import train_test_split\n",
    "from sklearn.preprocessing import LabelEncoder\n",
    "from sklearn.svm import SVC\n",
    "\n",
    "import nltk\n",
    "nltk.download('wordnet')\n",
    "nltk.download('stopwords')\n",
    "tqdm.pandas()\n",
    "\n",
    "from nltk.corpus import stopwords\n",
    "from nltk.stem.wordnet import WordNetLemmatizer\n"
   ]
  },
  {
   "cell_type": "markdown",
   "metadata": {},
   "source": [
    "Dataset carregado, colunas de link, autor e data removidas.\n",
    "\n",
    "Baseado na visualização, as 3 categorias mais frequentes estão muito acima das demais, isso será levado em consideração depois do pré-processamento do texto"
   ]
  },
  {
   "cell_type": "code",
   "execution_count": 2,
   "metadata": {
    "ExecuteTime": {
     "end_time": "2025-05-02T13:00:24.996254Z",
     "start_time": "2025-05-02T13:00:23.515515Z"
    },
    "colab": {
     "base_uri": "https://localhost:8080/",
     "height": 450
    },
    "colab_type": "code",
    "executionInfo": {
     "elapsed": 116748,
     "status": "error",
     "timestamp": 1573684968470,
     "user": {
      "displayName": "Fernando Matsumoto",
      "photoUrl": "",
      "userId": "02497909482286168309"
     },
     "user_tz": 120
    },
    "id": "inuQshNZJL-s",
    "outputId": "14c5baad-7707-4cbf-e6bd-9a6a4ca2669d"
   },
   "outputs": [
    {
     "data": {
      "text/html": [
       "<div>\n",
       "<style scoped>\n",
       "    .dataframe tbody tr th:only-of-type {\n",
       "        vertical-align: middle;\n",
       "    }\n",
       "\n",
       "    .dataframe tbody tr th {\n",
       "        vertical-align: top;\n",
       "    }\n",
       "\n",
       "    .dataframe thead th {\n",
       "        text-align: right;\n",
       "    }\n",
       "</style>\n",
       "<table border=\"1\" class=\"dataframe\">\n",
       "  <thead>\n",
       "    <tr style=\"text-align: right;\">\n",
       "      <th></th>\n",
       "      <th>headline</th>\n",
       "      <th>category</th>\n",
       "      <th>short_description</th>\n",
       "    </tr>\n",
       "  </thead>\n",
       "  <tbody>\n",
       "    <tr>\n",
       "      <th>0</th>\n",
       "      <td>Over 4 Million Americans Roll Up Sleeves For O...</td>\n",
       "      <td>U.S. NEWS</td>\n",
       "      <td>Health experts said it is too early to predict...</td>\n",
       "    </tr>\n",
       "    <tr>\n",
       "      <th>1</th>\n",
       "      <td>American Airlines Flyer Charged, Banned For Li...</td>\n",
       "      <td>U.S. NEWS</td>\n",
       "      <td>He was subdued by passengers and crew when he ...</td>\n",
       "    </tr>\n",
       "    <tr>\n",
       "      <th>2</th>\n",
       "      <td>23 Of The Funniest Tweets About Cats And Dogs ...</td>\n",
       "      <td>COMEDY</td>\n",
       "      <td>\"Until you have a dog you don't understand wha...</td>\n",
       "    </tr>\n",
       "    <tr>\n",
       "      <th>3</th>\n",
       "      <td>The Funniest Tweets From Parents This Week (Se...</td>\n",
       "      <td>PARENTING</td>\n",
       "      <td>\"Accidentally put grown-up toothpaste on my to...</td>\n",
       "    </tr>\n",
       "    <tr>\n",
       "      <th>4</th>\n",
       "      <td>Woman Who Called Cops On Black Bird-Watcher Lo...</td>\n",
       "      <td>U.S. NEWS</td>\n",
       "      <td>Amy Cooper accused investment firm Franklin Te...</td>\n",
       "    </tr>\n",
       "  </tbody>\n",
       "</table>\n",
       "</div>"
      ],
      "text/plain": [
       "                                            headline   category  \\\n",
       "0  Over 4 Million Americans Roll Up Sleeves For O...  U.S. NEWS   \n",
       "1  American Airlines Flyer Charged, Banned For Li...  U.S. NEWS   \n",
       "2  23 Of The Funniest Tweets About Cats And Dogs ...     COMEDY   \n",
       "3  The Funniest Tweets From Parents This Week (Se...  PARENTING   \n",
       "4  Woman Who Called Cops On Black Bird-Watcher Lo...  U.S. NEWS   \n",
       "\n",
       "                                   short_description  \n",
       "0  Health experts said it is too early to predict...  \n",
       "1  He was subdued by passengers and crew when he ...  \n",
       "2  \"Until you have a dog you don't understand wha...  \n",
       "3  \"Accidentally put grown-up toothpaste on my to...  \n",
       "4  Amy Cooper accused investment firm Franklin Te...  "
      ]
     },
     "execution_count": 2,
     "metadata": {},
     "output_type": "execute_result"
    }
   ],
   "source": [
    "dados = pd.read_json('datasetNews.json', lines = True)\n",
    "dados = dados.drop(columns=['link', 'authors', 'date'])\n",
    "dados.head()"
   ]
  },
  {
   "cell_type": "code",
   "execution_count": 3,
   "metadata": {
    "ExecuteTime": {
     "end_time": "2025-05-02T13:00:25.754884Z",
     "start_time": "2025-05-02T13:00:25.711422Z"
    }
   },
   "outputs": [
    {
     "data": {
      "text/plain": [
       "category\n",
       "POLITICS          35602\n",
       "WELLNESS          17945\n",
       "ENTERTAINMENT     17362\n",
       "TRAVEL             9900\n",
       "STYLE & BEAUTY     9814\n",
       "PARENTING          8791\n",
       "HEALTHY LIVING     6694\n",
       "QUEER VOICES       6347\n",
       "FOOD & DRINK       6340\n",
       "BUSINESS           5992\n",
       "COMEDY             5400\n",
       "SPORTS             5077\n",
       "BLACK VOICES       4583\n",
       "HOME & LIVING      4320\n",
       "PARENTS            3955\n",
       "THE WORLDPOST      3664\n",
       "WEDDINGS           3653\n",
       "WOMEN              3572\n",
       "CRIME              3562\n",
       "IMPACT             3484\n",
       "DIVORCE            3426\n",
       "WORLD NEWS         3299\n",
       "MEDIA              2944\n",
       "WEIRD NEWS         2777\n",
       "GREEN              2622\n",
       "WORLDPOST          2579\n",
       "RELIGION           2577\n",
       "STYLE              2254\n",
       "SCIENCE            2206\n",
       "TECH               2104\n",
       "TASTE              2096\n",
       "MONEY              1756\n",
       "ARTS               1509\n",
       "ENVIRONMENT        1444\n",
       "FIFTY              1401\n",
       "GOOD NEWS          1398\n",
       "U.S. NEWS          1377\n",
       "ARTS & CULTURE     1339\n",
       "COLLEGE            1144\n",
       "LATINO VOICES      1130\n",
       "CULTURE & ARTS     1074\n",
       "EDUCATION          1014\n",
       "Name: count, dtype: int64"
      ]
     },
     "execution_count": 3,
     "metadata": {},
     "output_type": "execute_result"
    }
   ],
   "source": [
    "dados[\"category\"].value_counts()"
   ]
  },
  {
   "cell_type": "markdown",
   "metadata": {},
   "source": [
    "Realizamos o tratamento e processamento inicial do texto, para mais informações consulte a bibliografia."
   ]
  },
  {
   "cell_type": "code",
   "execution_count": 4,
   "metadata": {
    "ExecuteTime": {
     "end_time": "2025-05-02T14:13:02.425107Z",
     "start_time": "2025-05-02T14:12:19.199576Z"
    }
   },
   "outputs": [
    {
     "data": {
      "text/html": [
       "<div>\n",
       "<style scoped>\n",
       "    .dataframe tbody tr th:only-of-type {\n",
       "        vertical-align: middle;\n",
       "    }\n",
       "\n",
       "    .dataframe tbody tr th {\n",
       "        vertical-align: top;\n",
       "    }\n",
       "\n",
       "    .dataframe thead th {\n",
       "        text-align: right;\n",
       "    }\n",
       "</style>\n",
       "<table border=\"1\" class=\"dataframe\">\n",
       "  <thead>\n",
       "    <tr style=\"text-align: right;\">\n",
       "      <th></th>\n",
       "      <th>headline</th>\n",
       "      <th>category</th>\n",
       "      <th>short_description</th>\n",
       "      <th>headline_processado</th>\n",
       "      <th>desc_processado</th>\n",
       "      <th>texto_tot</th>\n",
       "    </tr>\n",
       "  </thead>\n",
       "  <tbody>\n",
       "    <tr>\n",
       "      <th>0</th>\n",
       "      <td>Over 4 Million Americans Roll Up Sleeves For O...</td>\n",
       "      <td>U.S. NEWS</td>\n",
       "      <td>Health experts said it is too early to predict...</td>\n",
       "      <td>million americans roll sleeves omicrontargeted...</td>\n",
       "      <td>health experts say early predict whether deman...</td>\n",
       "      <td>million americans roll sleeves omicrontargeted...</td>\n",
       "    </tr>\n",
       "    <tr>\n",
       "      <th>1</th>\n",
       "      <td>American Airlines Flyer Charged, Banned For Li...</td>\n",
       "      <td>U.S. NEWS</td>\n",
       "      <td>He was subdued by passengers and crew when he ...</td>\n",
       "      <td>american airlines flyer charge ban life punch ...</td>\n",
       "      <td>subdue passengers crew flee back aircraft conf...</td>\n",
       "      <td>american airlines flyer charge ban life punch ...</td>\n",
       "    </tr>\n",
       "    <tr>\n",
       "      <th>2</th>\n",
       "      <td>23 Of The Funniest Tweets About Cats And Dogs ...</td>\n",
       "      <td>COMEDY</td>\n",
       "      <td>\"Until you have a dog you don't understand wha...</td>\n",
       "      <td>funniest tweet cat dog week sept</td>\n",
       "      <td>dog dont understand could eat</td>\n",
       "      <td>funniest tweet cat dog week septdog dont under...</td>\n",
       "    </tr>\n",
       "    <tr>\n",
       "      <th>3</th>\n",
       "      <td>The Funniest Tweets From Parents This Week (Se...</td>\n",
       "      <td>PARENTING</td>\n",
       "      <td>\"Accidentally put grown-up toothpaste on my to...</td>\n",
       "      <td>funniest tweet parent week sept</td>\n",
       "      <td>accidentally put grownup toothpaste toddlers t...</td>\n",
       "      <td>funniest tweet parent week septaccidentally pu...</td>\n",
       "    </tr>\n",
       "    <tr>\n",
       "      <th>4</th>\n",
       "      <td>Woman Who Called Cops On Black Bird-Watcher Lo...</td>\n",
       "      <td>U.S. NEWS</td>\n",
       "      <td>Amy Cooper accused investment firm Franklin Te...</td>\n",
       "      <td>woman call cop black birdwatcher lose lawsuit ...</td>\n",
       "      <td>amy cooper accuse investment firm franklin tem...</td>\n",
       "      <td>woman call cop black birdwatcher lose lawsuit ...</td>\n",
       "    </tr>\n",
       "  </tbody>\n",
       "</table>\n",
       "</div>"
      ],
      "text/plain": [
       "                                            headline   category  \\\n",
       "0  Over 4 Million Americans Roll Up Sleeves For O...  U.S. NEWS   \n",
       "1  American Airlines Flyer Charged, Banned For Li...  U.S. NEWS   \n",
       "2  23 Of The Funniest Tweets About Cats And Dogs ...     COMEDY   \n",
       "3  The Funniest Tweets From Parents This Week (Se...  PARENTING   \n",
       "4  Woman Who Called Cops On Black Bird-Watcher Lo...  U.S. NEWS   \n",
       "\n",
       "                                   short_description  \\\n",
       "0  Health experts said it is too early to predict...   \n",
       "1  He was subdued by passengers and crew when he ...   \n",
       "2  \"Until you have a dog you don't understand wha...   \n",
       "3  \"Accidentally put grown-up toothpaste on my to...   \n",
       "4  Amy Cooper accused investment firm Franklin Te...   \n",
       "\n",
       "                                 headline_processado  \\\n",
       "0  million americans roll sleeves omicrontargeted...   \n",
       "1  american airlines flyer charge ban life punch ...   \n",
       "2                   funniest tweet cat dog week sept   \n",
       "3                    funniest tweet parent week sept   \n",
       "4  woman call cop black birdwatcher lose lawsuit ...   \n",
       "\n",
       "                                     desc_processado  \\\n",
       "0  health experts say early predict whether deman...   \n",
       "1  subdue passengers crew flee back aircraft conf...   \n",
       "2                      dog dont understand could eat   \n",
       "3  accidentally put grownup toothpaste toddlers t...   \n",
       "4  amy cooper accuse investment firm franklin tem...   \n",
       "\n",
       "                                           texto_tot  \n",
       "0  million americans roll sleeves omicrontargeted...  \n",
       "1  american airlines flyer charge ban life punch ...  \n",
       "2  funniest tweet cat dog week septdog dont under...  \n",
       "3  funniest tweet parent week septaccidentally pu...  \n",
       "4  woman call cop black birdwatcher lose lawsuit ...  "
      ]
     },
     "execution_count": 4,
     "metadata": {},
     "output_type": "execute_result"
    }
   ],
   "source": [
    "stopwords_en = set(stopwords.words('english'))\n",
    "\n",
    "def datacleaning(text):\n",
    "    whitespace = re.compile(r\"\\s+\")\n",
    "    user = re.compile(r\"(?i)@[a-z0-9_]+\")\n",
    "    text = whitespace.sub(' ', text)\n",
    "    text = user.sub('', text)\n",
    "    text = re.sub(r\"\\[[^()]*\\]\",\"\", text)\n",
    "    text = re.sub(r\"\\d+\", \"\", text)\n",
    "    text = re.sub(r'[^\\w\\s]','',text)\n",
    "    text = re.sub(r\"(?:@\\S*|#\\S*|http(?=.*://)\\S*)\", \"\", text)\n",
    "    text = text.lower()\n",
    "    \n",
    "    text = [word for word in text.split() if word not in list(stopwords_en)]\n",
    "    \n",
    "    sentence = []\n",
    "    for word in text:\n",
    "        lemmatizer = WordNetLemmatizer()\n",
    "        sentence.append(lemmatizer.lemmatize(word,'v'))\n",
    "        \n",
    "    return ' '.join(sentence)\n",
    "\n",
    "dados['headline_processado'] = dados.headline.apply(datacleaning)\n",
    "dados['desc_processado'] = dados.short_description.apply(datacleaning)\n",
    "dados['texto_tot'] = dados['headline_processado'] + dados['desc_processado']\n",
    "dados.head()"
   ]
  },
  {
   "cell_type": "markdown",
   "metadata": {},
   "source": [
    "Baseado na disparidade entre a quantidade de artigos por tema, estaremos dividindo a base em 3 conjuntos\n",
    "1. Três principais temas\n",
    "2. Todos os temas menos os três principais\n",
    "3. Os nove temas com mais artigos após a remoção dos três principais"
   ]
  },
  {
   "cell_type": "code",
   "execution_count": 5,
   "metadata": {
    "ExecuteTime": {
     "end_time": "2025-05-02T14:13:50.092236Z",
     "start_time": "2025-05-02T14:13:49.736330Z"
    }
   },
   "outputs": [
    {
     "data": {
      "text/plain": [
       "category\n",
       "POLITICS         35602\n",
       "WELLNESS         17945\n",
       "ENTERTAINMENT    17362\n",
       "Name: count, dtype: int64"
      ]
     },
     "execution_count": 5,
     "metadata": {},
     "output_type": "execute_result"
    }
   ],
   "source": [
    "temas1 = ['POLITICS', 'WELLNESS', 'ENTERTAINMENT']\n",
    "temas3 = ['TRAVEL', 'STYLE & BEAUTY', 'PARENTING', 'HEALTHY LIVING', 'QUEER VOICES', 'FOOD & DRINK','BUSINESS', 'COMEDY', 'SPORTS']\n",
    "dados_t1 = dados[dados['category'].isin(temas1)].copy()\n",
    "dados_t2 = dados[~dados['category'].isin(temas1)].copy()\n",
    "dados_t3 = dados[dados['category'].isin(temas3)].copy()\n",
    "dados_t1.category.value_counts()"
   ]
  },
  {
   "cell_type": "code",
   "execution_count": 6,
   "metadata": {
    "ExecuteTime": {
     "end_time": "2025-05-02T13:08:26.743499Z",
     "start_time": "2025-05-02T13:08:26.722515Z"
    }
   },
   "outputs": [
    {
     "data": {
      "text/plain": [
       "category\n",
       "TRAVEL            9900\n",
       "STYLE & BEAUTY    9814\n",
       "PARENTING         8791\n",
       "HEALTHY LIVING    6694\n",
       "QUEER VOICES      6347\n",
       "FOOD & DRINK      6340\n",
       "BUSINESS          5992\n",
       "COMEDY            5400\n",
       "SPORTS            5077\n",
       "BLACK VOICES      4583\n",
       "HOME & LIVING     4320\n",
       "PARENTS           3955\n",
       "THE WORLDPOST     3664\n",
       "WEDDINGS          3653\n",
       "WOMEN             3572\n",
       "CRIME             3562\n",
       "IMPACT            3484\n",
       "DIVORCE           3426\n",
       "WORLD NEWS        3299\n",
       "MEDIA             2944\n",
       "WEIRD NEWS        2777\n",
       "GREEN             2622\n",
       "WORLDPOST         2579\n",
       "RELIGION          2577\n",
       "STYLE             2254\n",
       "SCIENCE           2206\n",
       "TECH              2104\n",
       "TASTE             2096\n",
       "MONEY             1756\n",
       "ARTS              1509\n",
       "ENVIRONMENT       1444\n",
       "FIFTY             1401\n",
       "GOOD NEWS         1398\n",
       "U.S. NEWS         1377\n",
       "ARTS & CULTURE    1339\n",
       "COLLEGE           1144\n",
       "LATINO VOICES     1130\n",
       "CULTURE & ARTS    1074\n",
       "EDUCATION         1014\n",
       "Name: count, dtype: int64"
      ]
     },
     "execution_count": 6,
     "metadata": {},
     "output_type": "execute_result"
    }
   ],
   "source": [
    "dados_t2.category.value_counts()"
   ]
  },
  {
   "cell_type": "code",
   "execution_count": 7,
   "metadata": {
    "ExecuteTime": {
     "end_time": "2025-05-02T13:08:29.173663Z",
     "start_time": "2025-05-02T13:08:29.160530Z"
    }
   },
   "outputs": [
    {
     "data": {
      "text/plain": [
       "category\n",
       "TRAVEL            9900\n",
       "STYLE & BEAUTY    9814\n",
       "PARENTING         8791\n",
       "HEALTHY LIVING    6694\n",
       "QUEER VOICES      6347\n",
       "FOOD & DRINK      6340\n",
       "BUSINESS          5992\n",
       "COMEDY            5400\n",
       "SPORTS            5077\n",
       "Name: count, dtype: int64"
      ]
     },
     "execution_count": 7,
     "metadata": {},
     "output_type": "execute_result"
    }
   ],
   "source": [
    "dados_t3.category.value_counts()"
   ]
  },
  {
   "cell_type": "markdown",
   "metadata": {},
   "source": [
    "Utilizamos LabelEncoder para transformar os temas dos artigos em fatores numéricos\n",
    "Isto não implica em ordenação ou hierarquia entre os temas, e serve apenas o propósito de adequar o dataset às ferramentas que serão utilizadas."
   ]
  },
  {
   "cell_type": "code",
   "execution_count": 8,
   "metadata": {
    "ExecuteTime": {
     "end_time": "2025-05-02T14:13:57.052152Z",
     "start_time": "2025-05-02T14:13:56.964781Z"
    }
   },
   "outputs": [
    {
     "data": {
      "text/html": [
       "<div>\n",
       "<style scoped>\n",
       "    .dataframe tbody tr th:only-of-type {\n",
       "        vertical-align: middle;\n",
       "    }\n",
       "\n",
       "    .dataframe tbody tr th {\n",
       "        vertical-align: top;\n",
       "    }\n",
       "\n",
       "    .dataframe thead th {\n",
       "        text-align: right;\n",
       "    }\n",
       "</style>\n",
       "<table border=\"1\" class=\"dataframe\">\n",
       "  <thead>\n",
       "    <tr style=\"text-align: right;\">\n",
       "      <th></th>\n",
       "      <th>headline</th>\n",
       "      <th>category</th>\n",
       "      <th>short_description</th>\n",
       "      <th>headline_processado</th>\n",
       "      <th>desc_processado</th>\n",
       "      <th>texto_tot</th>\n",
       "      <th>labels</th>\n",
       "    </tr>\n",
       "  </thead>\n",
       "  <tbody>\n",
       "    <tr>\n",
       "      <th>20</th>\n",
       "      <td>Golden Globes Returning To NBC In January Afte...</td>\n",
       "      <td>ENTERTAINMENT</td>\n",
       "      <td>For the past 18 months, Hollywood has effectiv...</td>\n",
       "      <td>golden globes return nbc january year offair</td>\n",
       "      <td>past months hollywood effectively boycott glob...</td>\n",
       "      <td>golden globes return nbc january year offairpa...</td>\n",
       "      <td>0</td>\n",
       "    </tr>\n",
       "    <tr>\n",
       "      <th>21</th>\n",
       "      <td>Biden Says U.S. Forces Would Defend Taiwan If ...</td>\n",
       "      <td>POLITICS</td>\n",
       "      <td>President issues vow as tensions with China rise.</td>\n",
       "      <td>biden say us force would defend taiwan china i...</td>\n",
       "      <td>president issue vow tensions china rise</td>\n",
       "      <td>biden say us force would defend taiwan china i...</td>\n",
       "      <td>1</td>\n",
       "    </tr>\n",
       "    <tr>\n",
       "      <th>24</th>\n",
       "      <td>‘Beautiful And Sad At The Same Time’: Ukrainia...</td>\n",
       "      <td>POLITICS</td>\n",
       "      <td>An annual celebration took on a different feel...</td>\n",
       "      <td>beautiful sad time ukrainian cultural festival...</td>\n",
       "      <td>annual celebration take different feel russias...</td>\n",
       "      <td>beautiful sad time ukrainian cultural festival...</td>\n",
       "      <td>1</td>\n",
       "    </tr>\n",
       "    <tr>\n",
       "      <th>28</th>\n",
       "      <td>James Cameron Says He 'Clashed' With Studio Be...</td>\n",
       "      <td>ENTERTAINMENT</td>\n",
       "      <td>The \"Avatar\" director said aspects of his 2009...</td>\n",
       "      <td>jam cameron say clash studio avatar release</td>\n",
       "      <td>avatar director say aspects movie still compet...</td>\n",
       "      <td>jam cameron say clash studio avatar releaseava...</td>\n",
       "      <td>0</td>\n",
       "    </tr>\n",
       "    <tr>\n",
       "      <th>30</th>\n",
       "      <td>Biden Says Queen's Death Left 'Giant Hole' For...</td>\n",
       "      <td>POLITICS</td>\n",
       "      <td>U.S. President Joe Biden, in London for the fu...</td>\n",
       "      <td>biden say queen death leave giant hole royal f...</td>\n",
       "      <td>us president joe biden london funeral queen el...</td>\n",
       "      <td>biden say queen death leave giant hole royal f...</td>\n",
       "      <td>1</td>\n",
       "    </tr>\n",
       "  </tbody>\n",
       "</table>\n",
       "</div>"
      ],
      "text/plain": [
       "                                             headline       category  \\\n",
       "20  Golden Globes Returning To NBC In January Afte...  ENTERTAINMENT   \n",
       "21  Biden Says U.S. Forces Would Defend Taiwan If ...       POLITICS   \n",
       "24  ‘Beautiful And Sad At The Same Time’: Ukrainia...       POLITICS   \n",
       "28  James Cameron Says He 'Clashed' With Studio Be...  ENTERTAINMENT   \n",
       "30  Biden Says Queen's Death Left 'Giant Hole' For...       POLITICS   \n",
       "\n",
       "                                    short_description  \\\n",
       "20  For the past 18 months, Hollywood has effectiv...   \n",
       "21  President issues vow as tensions with China rise.   \n",
       "24  An annual celebration took on a different feel...   \n",
       "28  The \"Avatar\" director said aspects of his 2009...   \n",
       "30  U.S. President Joe Biden, in London for the fu...   \n",
       "\n",
       "                                  headline_processado  \\\n",
       "20       golden globes return nbc january year offair   \n",
       "21  biden say us force would defend taiwan china i...   \n",
       "24  beautiful sad time ukrainian cultural festival...   \n",
       "28        jam cameron say clash studio avatar release   \n",
       "30  biden say queen death leave giant hole royal f...   \n",
       "\n",
       "                                      desc_processado  \\\n",
       "20  past months hollywood effectively boycott glob...   \n",
       "21            president issue vow tensions china rise   \n",
       "24  annual celebration take different feel russias...   \n",
       "28  avatar director say aspects movie still compet...   \n",
       "30  us president joe biden london funeral queen el...   \n",
       "\n",
       "                                            texto_tot  labels  \n",
       "20  golden globes return nbc january year offairpa...       0  \n",
       "21  biden say us force would defend taiwan china i...       1  \n",
       "24  beautiful sad time ukrainian cultural festival...       1  \n",
       "28  jam cameron say clash studio avatar releaseava...       0  \n",
       "30  biden say queen death leave giant hole royal f...       1  "
      ]
     },
     "execution_count": 8,
     "metadata": {},
     "output_type": "execute_result"
    }
   ],
   "source": [
    "le = LabelEncoder()\n",
    "dados_t1['labels'] = le.fit_transform(dados_t1['category'])\n",
    "dados_t2['labels'] = le.fit_transform(dados_t2['category'])\n",
    "dados_t3['labels'] = le.fit_transform(dados_t3['category'])\n",
    "dados_t1.head()"
   ]
  },
  {
   "cell_type": "markdown",
   "metadata": {},
   "source": [
    "Divisão em conjuntos de treino e teste para as 3 divisões do conjunto original."
   ]
  },
  {
   "cell_type": "code",
   "execution_count": 9,
   "metadata": {
    "ExecuteTime": {
     "end_time": "2025-05-02T14:14:26.627709Z",
     "start_time": "2025-05-02T14:14:26.502506Z"
    }
   },
   "outputs": [],
   "source": [
    "train_X1, test_X1, train_Y1, test_Y1 = train_test_split(\n",
    "    dados_t1[['headline', 'short_description', 'headline_processado', 'desc_processado', 'texto_tot']],\n",
    "    dados_t1['labels'],\n",
    "    test_size = 0.1,\n",
    "    random_state = 42,\n",
    ")\n",
    "\n",
    "train_X2, test_X2, train_Y2, test_Y2 = train_test_split(\n",
    "    dados_t2[['headline', 'short_description', 'headline_processado', 'desc_processado', 'texto_tot']],\n",
    "    dados_t2['labels'],\n",
    "    test_size = 0.1,\n",
    "    random_state = 42,\n",
    ")\n",
    "\n",
    "train_X3, test_X3, train_Y3, test_Y3 = train_test_split(\n",
    "    dados_t3[['headline', 'short_description', 'headline_processado', 'desc_processado', 'texto_tot']],\n",
    "    dados_t3['labels'],\n",
    "    test_size = 0.1,\n",
    "    random_state = 42,\n",
    ")"
   ]
  },
  {
   "cell_type": "markdown",
   "metadata": {},
   "source": [
    "## Conjunto 1 - Três principais"
   ]
  },
  {
   "cell_type": "markdown",
   "metadata": {},
   "source": [
    "Criação de um vetor *tf-idf* para a descrição, titulo, e descrição + titulo juntos"
   ]
  },
  {
   "cell_type": "markdown",
   "metadata": {},
   "source": [
    "#### Para descrição:"
   ]
  },
  {
   "cell_type": "code",
   "execution_count": 10,
   "metadata": {
    "ExecuteTime": {
     "end_time": "2025-05-02T14:14:33.239703Z",
     "start_time": "2025-05-02T14:14:30.932531Z"
    }
   },
   "outputs": [],
   "source": [
    "tfidf_vector1desc = TfidfVectorizer()\n",
    "tfidf_vector1desc.fit(dados_t1['desc_processado'])\n",
    "\n",
    "train_X_tfidf_1desc = tfidf_vector1desc.transform(train_X1['desc_processado'])\n",
    "test_X_tfidf_1desc = tfidf_vector1desc.transform(test_X1['desc_processado'])\n",
    "\n",
    "dados_principais_tfidf_1desc = tfidf_vector1desc.transform(dados_t1['desc_processado'])"
   ]
  },
  {
   "cell_type": "markdown",
   "metadata": {},
   "source": [
    "#### Para título:"
   ]
  },
  {
   "cell_type": "code",
   "execution_count": 11,
   "metadata": {
    "ExecuteTime": {
     "end_time": "2025-05-02T14:14:36.199933Z",
     "start_time": "2025-05-02T14:14:34.588391Z"
    }
   },
   "outputs": [],
   "source": [
    "tfidf_vector1title = TfidfVectorizer()\n",
    "tfidf_vector1title.fit(dados_t1['headline_processado'])\n",
    "\n",
    "train_X_tfidf_1title = tfidf_vector1title.transform(train_X1['headline_processado'])\n",
    "test_X_tfidf_1title = tfidf_vector1title.transform(test_X1['headline_processado'])\n",
    "\n",
    "dados_principais_tfidf_1title = tfidf_vector1title.transform(dados_t1['headline_processado'])"
   ]
  },
  {
   "cell_type": "markdown",
   "metadata": {},
   "source": [
    "#### Para descrição + título:"
   ]
  },
  {
   "cell_type": "code",
   "execution_count": 12,
   "metadata": {
    "ExecuteTime": {
     "end_time": "2025-05-02T14:14:59.451546Z",
     "start_time": "2025-05-02T14:14:56.211053Z"
    }
   },
   "outputs": [],
   "source": [
    "tfidf_vector1full = TfidfVectorizer()\n",
    "tfidf_vector1full.fit(dados_t1['texto_tot'])\n",
    "\n",
    "train_X_tfidf_1full = tfidf_vector1full.transform(train_X1['texto_tot'])\n",
    "test_X_tfidf_1full = tfidf_vector1full.transform(test_X1['texto_tot'])\n",
    "\n",
    "dados_principais_tfidf_1full = tfidf_vector1full.transform(dados_t1['texto_tot'])"
   ]
  },
  {
   "cell_type": "markdown",
   "metadata": {},
   "source": [
    "#### <span style=\"color:red\">Veja a seguir que não foi possível aplicar Naive Bayes devido ao tamanho do conjunto!</span>\n"
   ]
  },
  {
   "cell_type": "code",
   "execution_count": 13,
   "metadata": {
    "ExecuteTime": {
     "end_time": "2025-05-02T16:31:19.576562Z",
     "start_time": "2025-05-02T16:31:19.546763Z"
    }
   },
   "outputs": [
    {
     "ename": "KeyboardInterrupt",
     "evalue": "",
     "output_type": "error",
     "traceback": [
      "\u001b[31m---------------------------------------------------------------------------\u001b[39m",
      "\u001b[31mKeyboardInterrupt\u001b[39m                         Traceback (most recent call last)",
      "\u001b[36mCell\u001b[39m\u001b[36m \u001b[39m\u001b[32mIn[13]\u001b[39m\u001b[32m, line 2\u001b[39m\n\u001b[32m      1\u001b[39m nb = GaussianNB()\n\u001b[32m----> \u001b[39m\u001b[32m2\u001b[39m \u001b[43mnb\u001b[49m\u001b[43m.\u001b[49m\u001b[43mfit\u001b[49m\u001b[43m(\u001b[49m\u001b[43mtrain_X_tfidf_1desc\u001b[49m\u001b[43m.\u001b[49m\u001b[43mtoarray\u001b[49m\u001b[43m(\u001b[49m\u001b[43m)\u001b[49m\u001b[43m,\u001b[49m\u001b[43m \u001b[49m\u001b[43mtrain_Y1\u001b[49m\u001b[43m)\u001b[49m\n\u001b[32m      3\u001b[39m predictions_nb = nb.predict(test_X_tfidf_1desc.toarray())\n\u001b[32m      4\u001b[39m acuracia = accuracy_score(predictions_nb, test_Y1)\n",
      "\u001b[36mFile \u001b[39m\u001b[32m~/Documents/Practices/GBC212/venv/lib/python3.13/site-packages/sklearn/base.py:1389\u001b[39m, in \u001b[36m_fit_context.<locals>.decorator.<locals>.wrapper\u001b[39m\u001b[34m(estimator, *args, **kwargs)\u001b[39m\n\u001b[32m   1382\u001b[39m     estimator._validate_params()\n\u001b[32m   1384\u001b[39m \u001b[38;5;28;01mwith\u001b[39;00m config_context(\n\u001b[32m   1385\u001b[39m     skip_parameter_validation=(\n\u001b[32m   1386\u001b[39m         prefer_skip_nested_validation \u001b[38;5;129;01mor\u001b[39;00m global_skip_validation\n\u001b[32m   1387\u001b[39m     )\n\u001b[32m   1388\u001b[39m ):\n\u001b[32m-> \u001b[39m\u001b[32m1389\u001b[39m     \u001b[38;5;28;01mreturn\u001b[39;00m \u001b[43mfit_method\u001b[49m\u001b[43m(\u001b[49m\u001b[43mestimator\u001b[49m\u001b[43m,\u001b[49m\u001b[43m \u001b[49m\u001b[43m*\u001b[49m\u001b[43margs\u001b[49m\u001b[43m,\u001b[49m\u001b[43m \u001b[49m\u001b[43m*\u001b[49m\u001b[43m*\u001b[49m\u001b[43mkwargs\u001b[49m\u001b[43m)\u001b[49m\n",
      "\u001b[36mFile \u001b[39m\u001b[32m~/Documents/Practices/GBC212/venv/lib/python3.13/site-packages/sklearn/naive_bayes.py:266\u001b[39m, in \u001b[36mGaussianNB.fit\u001b[39m\u001b[34m(self, X, y, sample_weight)\u001b[39m\n\u001b[32m    243\u001b[39m \u001b[38;5;250m\u001b[39m\u001b[33;03m\"\"\"Fit Gaussian Naive Bayes according to X, y.\u001b[39;00m\n\u001b[32m    244\u001b[39m \n\u001b[32m    245\u001b[39m \u001b[33;03mParameters\u001b[39;00m\n\u001b[32m   (...)\u001b[39m\u001b[32m    263\u001b[39m \u001b[33;03m    Returns the instance itself.\u001b[39;00m\n\u001b[32m    264\u001b[39m \u001b[33;03m\"\"\"\u001b[39;00m\n\u001b[32m    265\u001b[39m y = validate_data(\u001b[38;5;28mself\u001b[39m, y=y)\n\u001b[32m--> \u001b[39m\u001b[32m266\u001b[39m \u001b[38;5;28;01mreturn\u001b[39;00m \u001b[38;5;28;43mself\u001b[39;49m\u001b[43m.\u001b[49m\u001b[43m_partial_fit\u001b[49m\u001b[43m(\u001b[49m\n\u001b[32m    267\u001b[39m \u001b[43m    \u001b[49m\u001b[43mX\u001b[49m\u001b[43m,\u001b[49m\u001b[43m \u001b[49m\u001b[43my\u001b[49m\u001b[43m,\u001b[49m\u001b[43m \u001b[49m\u001b[43mnp\u001b[49m\u001b[43m.\u001b[49m\u001b[43munique\u001b[49m\u001b[43m(\u001b[49m\u001b[43my\u001b[49m\u001b[43m)\u001b[49m\u001b[43m,\u001b[49m\u001b[43m \u001b[49m\u001b[43m_refit\u001b[49m\u001b[43m=\u001b[49m\u001b[38;5;28;43;01mTrue\u001b[39;49;00m\u001b[43m,\u001b[49m\u001b[43m \u001b[49m\u001b[43msample_weight\u001b[49m\u001b[43m=\u001b[49m\u001b[43msample_weight\u001b[49m\n\u001b[32m    268\u001b[39m \u001b[43m\u001b[49m\u001b[43m)\u001b[49m\n",
      "\u001b[36mFile \u001b[39m\u001b[32m~/Documents/Practices/GBC212/venv/lib/python3.13/site-packages/sklearn/naive_bayes.py:434\u001b[39m, in \u001b[36mGaussianNB._partial_fit\u001b[39m\u001b[34m(self, X, y, classes, _refit, sample_weight)\u001b[39m\n\u001b[32m    428\u001b[39m     sample_weight = _check_sample_weight(sample_weight, X)\n\u001b[32m    430\u001b[39m \u001b[38;5;66;03m# If the ratio of data variance between dimensions is too small, it\u001b[39;00m\n\u001b[32m    431\u001b[39m \u001b[38;5;66;03m# will cause numerical errors. To address this, we artificially\u001b[39;00m\n\u001b[32m    432\u001b[39m \u001b[38;5;66;03m# boost the variance by epsilon, a small fraction of the standard\u001b[39;00m\n\u001b[32m    433\u001b[39m \u001b[38;5;66;03m# deviation of the largest dimension.\u001b[39;00m\n\u001b[32m--> \u001b[39m\u001b[32m434\u001b[39m \u001b[38;5;28mself\u001b[39m.epsilon_ = \u001b[38;5;28mself\u001b[39m.var_smoothing * \u001b[43mnp\u001b[49m\u001b[43m.\u001b[49m\u001b[43mvar\u001b[49m\u001b[43m(\u001b[49m\u001b[43mX\u001b[49m\u001b[43m,\u001b[49m\u001b[43m \u001b[49m\u001b[43maxis\u001b[49m\u001b[43m=\u001b[49m\u001b[32;43m0\u001b[39;49m\u001b[43m)\u001b[49m.max()\n\u001b[32m    436\u001b[39m \u001b[38;5;28;01mif\u001b[39;00m first_call:\n\u001b[32m    437\u001b[39m     \u001b[38;5;66;03m# This is the first call to partial_fit:\u001b[39;00m\n\u001b[32m    438\u001b[39m     \u001b[38;5;66;03m# initialize various cumulative counters\u001b[39;00m\n\u001b[32m    439\u001b[39m     n_features = X.shape[\u001b[32m1\u001b[39m]\n",
      "\u001b[36mFile \u001b[39m\u001b[32m~/Documents/Practices/GBC212/venv/lib/python3.13/site-packages/numpy/_core/fromnumeric.py:4268\u001b[39m, in \u001b[36mvar\u001b[39m\u001b[34m(a, axis, dtype, out, ddof, keepdims, where, mean, correction)\u001b[39m\n\u001b[32m   4265\u001b[39m     \u001b[38;5;28;01melse\u001b[39;00m:\n\u001b[32m   4266\u001b[39m         \u001b[38;5;28;01mreturn\u001b[39;00m var(axis=axis, dtype=dtype, out=out, ddof=ddof, **kwargs)\n\u001b[32m-> \u001b[39m\u001b[32m4268\u001b[39m \u001b[38;5;28;01mreturn\u001b[39;00m \u001b[43m_methods\u001b[49m\u001b[43m.\u001b[49m\u001b[43m_var\u001b[49m\u001b[43m(\u001b[49m\u001b[43ma\u001b[49m\u001b[43m,\u001b[49m\u001b[43m \u001b[49m\u001b[43maxis\u001b[49m\u001b[43m=\u001b[49m\u001b[43maxis\u001b[49m\u001b[43m,\u001b[49m\u001b[43m \u001b[49m\u001b[43mdtype\u001b[49m\u001b[43m=\u001b[49m\u001b[43mdtype\u001b[49m\u001b[43m,\u001b[49m\u001b[43m \u001b[49m\u001b[43mout\u001b[49m\u001b[43m=\u001b[49m\u001b[43mout\u001b[49m\u001b[43m,\u001b[49m\u001b[43m \u001b[49m\u001b[43mddof\u001b[49m\u001b[43m=\u001b[49m\u001b[43mddof\u001b[49m\u001b[43m,\u001b[49m\n\u001b[32m   4269\u001b[39m \u001b[43m                     \u001b[49m\u001b[43m*\u001b[49m\u001b[43m*\u001b[49m\u001b[43mkwargs\u001b[49m\u001b[43m)\u001b[49m\n",
      "\u001b[36mFile \u001b[39m\u001b[32m~/Documents/Practices/GBC212/venv/lib/python3.13/site-packages/numpy/_core/_methods.py:194\u001b[39m, in \u001b[36m_var\u001b[39m\u001b[34m(a, axis, dtype, out, ddof, keepdims, where, mean)\u001b[39m\n\u001b[32m    191\u001b[39m x = asanyarray(arr - arrmean)\n\u001b[32m    193\u001b[39m \u001b[38;5;28;01mif\u001b[39;00m \u001b[38;5;28missubclass\u001b[39m(arr.dtype.type, (nt.floating, nt.integer)):\n\u001b[32m--> \u001b[39m\u001b[32m194\u001b[39m     x = \u001b[43mum\u001b[49m\u001b[43m.\u001b[49m\u001b[43mmultiply\u001b[49m\u001b[43m(\u001b[49m\u001b[43mx\u001b[49m\u001b[43m,\u001b[49m\u001b[43m \u001b[49m\u001b[43mx\u001b[49m\u001b[43m,\u001b[49m\u001b[43m \u001b[49m\u001b[43mout\u001b[49m\u001b[43m=\u001b[49m\u001b[43mx\u001b[49m\u001b[43m)\u001b[49m\n\u001b[32m    195\u001b[39m \u001b[38;5;66;03m# Fast-paths for built-in complex types\u001b[39;00m\n\u001b[32m    196\u001b[39m \u001b[38;5;28;01melif\u001b[39;00m x.dtype \u001b[38;5;129;01min\u001b[39;00m _complex_to_float:\n",
      "\u001b[31mKeyboardInterrupt\u001b[39m: "
     ]
    }
   ],
   "source": [
    "nb = GaussianNB()\n",
    "nb.fit(train_X_tfidf_1desc.toarray(), train_Y1)\n",
    "predictions_nb = nb.predict(test_X_tfidf_1desc.toarray())\n",
    "acuracia = accuracy_score(predictions_nb, test_Y1)\n",
    "print(f\"Naive Bayes: {acuracia*100:.3f}%\")"
   ]
  },
  {
   "cell_type": "markdown",
   "metadata": {},
   "source": [
    "#### Aplicando SVM"
   ]
  },
  {
   "cell_type": "markdown",
   "metadata": {},
   "source": [
    "#### Para descrição"
   ]
  },
  {
   "cell_type": "code",
   "execution_count": null,
   "metadata": {
    "ExecuteTime": {
     "end_time": "2025-05-02T13:24:05.026540Z",
     "start_time": "2025-05-02T13:16:27.877076Z"
    }
   },
   "outputs": [
    {
     "name": "stdout",
     "output_type": "stream",
     "text": [
      "Acurácia SVM: 82.259%\n"
     ]
    }
   ],
   "source": [
    "svm = SVC(C=1.0, kernel='linear', degree=3, gamma='auto')\n",
    "svm.fit(train_X_tfidf_1desc, train_Y1)\n",
    "predictions_svm = svm.predict(test_X_tfidf_1desc)\n",
    "desc_acc1 = accuracy_score(predictions_svm, test_Y1)\n",
    "print(f\"Acurácia SVM: {desc_acc1*100:.3f}%\")"
   ]
  },
  {
   "cell_type": "markdown",
   "metadata": {},
   "source": [
    "#### Para título"
   ]
  },
  {
   "cell_type": "code",
   "execution_count": null,
   "metadata": {
    "ExecuteTime": {
     "end_time": "2025-05-02T14:20:02.689602Z",
     "start_time": "2025-05-02T14:15:11.895451Z"
    }
   },
   "outputs": [
    {
     "name": "stdout",
     "output_type": "stream",
     "text": [
      "Acurácia SVM: 91.398%\n"
     ]
    }
   ],
   "source": [
    "svm = SVC(C=1.0, kernel='linear', degree=3, gamma='auto')\n",
    "svm.fit(train_X_tfidf_1title, train_Y1)\n",
    "predictions_svm = svm.predict(test_X_tfidf_1title)\n",
    "title_acc1 = accuracy_score(predictions_svm, test_Y1)\n",
    "print(f\"Acurácia SVM: {title_acc1*100:.3f}%\")"
   ]
  },
  {
   "cell_type": "markdown",
   "metadata": {},
   "source": [
    "#### Para descrição + título"
   ]
  },
  {
   "cell_type": "code",
   "execution_count": null,
   "metadata": {
    "ExecuteTime": {
     "end_time": "2025-05-02T14:30:49.699346Z",
     "start_time": "2025-05-02T14:20:27.421825Z"
    }
   },
   "outputs": [
    {
     "name": "stdout",
     "output_type": "stream",
     "text": [
      "Acurácia SVM: 93.485%\n"
     ]
    }
   ],
   "source": [
    "svm = SVC(C=1.0, kernel='linear', degree=3, gamma='auto')\n",
    "svm.fit(train_X_tfidf_1full, train_Y1)\n",
    "predictions_svm = svm.predict(test_X_tfidf_1full)\n",
    "full_acc1 = accuracy_score(predictions_svm, test_Y1)\n",
    "print(f\"Acurácia SVM: {full_acc1*100:.3f}%\")"
   ]
  },
  {
   "cell_type": "code",
   "execution_count": 7,
   "metadata": {},
   "outputs": [
    {
     "data": {
      "image/png": "[encoded data removed]",
      "text/plain": [
       "<Figure size 1000x500 with 1 Axes>"
      ]
     },
     "metadata": {},
     "output_type": "display_data"
    }
   ],
   "source": [
    "fig, ax = plt.subplots(figsize=(10, 5))\n",
    "categorias = ['Conjunto 1 - Três principais']\n",
    "x = np.arange(len(categorias))\n",
    "width = 0.25\n",
    "\n",
    "# uma barra para cada estratégia\n",
    "rects1 = ax.bar(x - width, desc_acc1, width, label='Descrição')\n",
    "rects2 = ax.bar(x, title_acc1, width, label='Título')\n",
    "rects3 = ax.bar(x + width, full_acc1, width, label='Descrição + Título')\n",
    "\n",
    "# rotulos + título\n",
    "ax.set_ylabel('Acurácia (%)')\n",
    "ax.set_title('Acurácia X Conjunto de Dados e Características')\n",
    "ax.set_xticks(x)\n",
    "ax.set_xticklabels(categorias)\n",
    "ax.legend()\n",
    "\n",
    "# adicionando os valores no topo das barras\n",
    "def add_labels(rects):\n",
    "    for rect in rects:\n",
    "        height = rect.get_height()\n",
    "        ax.annotate(f'{height:.2f}',\n",
    "                    xy=(rect.get_x() + rect.get_width() / 2, height),\n",
    "                    xytext=(0, 3),\n",
    "                    textcoords=\"offset points\",\n",
    "                    ha='center', va='bottom')\n",
    "\n",
    "add_labels(rects1)\n",
    "add_labels(rects2)\n",
    "add_labels(rects3)\n",
    "\n",
    "plt.show()"
   ]
  },
  {
   "cell_type": "markdown",
   "metadata": {},
   "source": [
    "## Conjunto 2 - Todos menos os três principais"
   ]
  },
  {
   "cell_type": "markdown",
   "metadata": {},
   "source": [
    "Criação de um vetor *tf-idf* para a descrição, titulo, e descrição + titulo juntos"
   ]
  },
  {
   "cell_type": "markdown",
   "metadata": {},
   "source": [
    "#### Para descrição"
   ]
  },
  {
   "cell_type": "code",
   "execution_count": 39,
   "metadata": {
    "ExecuteTime": {
     "end_time": "2025-05-02T14:34:37.678075Z",
     "start_time": "2025-05-02T14:34:32.951484Z"
    }
   },
   "outputs": [],
   "source": [
    "tfidf_vector2desc = TfidfVectorizer()\n",
    "tfidf_vector2desc.fit(dados_t2['desc_processado'])\n",
    "\n",
    "train_X_tfidf_2desc = tfidf_vector2desc.transform(train_X2['desc_processado'])\n",
    "test_X_tfidf_2desc = tfidf_vector2desc.transform(test_X2['desc_processado'])\n",
    "\n",
    "dados_principais_tfidf_2desc = tfidf_vector2desc.transform(dados_t2['desc_processado'])"
   ]
  },
  {
   "cell_type": "markdown",
   "metadata": {},
   "source": [
    "#### Para título"
   ]
  },
  {
   "cell_type": "code",
   "execution_count": 40,
   "metadata": {
    "ExecuteTime": {
     "end_time": "2025-05-02T14:34:40.751552Z",
     "start_time": "2025-05-02T14:34:37.681368Z"
    }
   },
   "outputs": [],
   "source": [
    "tfidf_vector2title = TfidfVectorizer()\n",
    "tfidf_vector2title.fit(dados_t2['headline_processado'])\n",
    "\n",
    "train_X_tfidf_2title = tfidf_vector2title.transform(train_X2['headline_processado'])\n",
    "test_X_tfidf_2title = tfidf_vector2title.transform(test_X2['headline_processado'])\n",
    "\n",
    "dados_principais_tfidf_2title = tfidf_vector2title.transform(dados_t2['headline_processado'])"
   ]
  },
  {
   "cell_type": "markdown",
   "metadata": {},
   "source": [
    "#### Para descrição + título"
   ]
  },
  {
   "cell_type": "code",
   "execution_count": 41,
   "metadata": {
    "ExecuteTime": {
     "end_time": "2025-05-02T14:34:47.472685Z",
     "start_time": "2025-05-02T14:34:40.779583Z"
    }
   },
   "outputs": [],
   "source": [
    "tfidf_vector2full = TfidfVectorizer()\n",
    "tfidf_vector2full.fit(dados_t2['texto_tot'])\n",
    "\n",
    "train_X_tfidf_2full = tfidf_vector2full.transform(train_X2['texto_tot'])\n",
    "test_X_tfidf_2full = tfidf_vector2full.transform(test_X2['texto_tot'])\n",
    "\n",
    "dados_principais_tfidf_2full = tfidf_vector2full.transform(dados_t2['texto_tot'])"
   ]
  },
  {
   "cell_type": "markdown",
   "metadata": {},
   "source": [
    "### Aplicando o modelo:"
   ]
  },
  {
   "cell_type": "markdown",
   "metadata": {},
   "source": [
    "#### Para descrição"
   ]
  },
  {
   "cell_type": "code",
   "execution_count": null,
   "metadata": {
    "ExecuteTime": {
     "end_time": "2025-05-02T15:06:58.462903Z",
     "start_time": "2025-05-02T14:34:47.498611Z"
    }
   },
   "outputs": [
    {
     "name": "stdout",
     "output_type": "stream",
     "text": [
      "SVM: 39.771%\n"
     ]
    }
   ],
   "source": [
    "svm = SVC(C=1.0, kernel='linear', degree=3, gamma='auto')\n",
    "svm.fit(train_X_tfidf_2desc, train_Y2)\n",
    "predictions_svm = svm.predict(test_X_tfidf_2desc)\n",
    "desc_acc2 = accuracy_score(predictions_svm, test_Y2)\n",
    "print(f\"Acurácia SVM: {desc_acc2*100:.3f}%\")"
   ]
  },
  {
   "cell_type": "markdown",
   "metadata": {},
   "source": [
    "#### Para título"
   ]
  },
  {
   "cell_type": "code",
   "execution_count": null,
   "metadata": {
    "ExecuteTime": {
     "end_time": "2025-05-02T15:26:01.382954Z",
     "start_time": "2025-05-02T15:06:58.570654Z"
    }
   },
   "outputs": [
    {
     "name": "stdout",
     "output_type": "stream",
     "text": [
      "SVM: 57.019%\n"
     ]
    }
   ],
   "source": [
    "svm = SVC(C=1.0, kernel='linear', degree=3, gamma='auto')\n",
    "svm.fit(train_X_tfidf_2title, train_Y2)\n",
    "predictions_svm = svm.predict(test_X_tfidf_2title)\n",
    "title_acc2 = accuracy_score(predictions_svm, test_Y2)\n",
    "print(f\"Acurácia SVM: {title_acc2*100:.3f}%\")"
   ]
  },
  {
   "cell_type": "markdown",
   "metadata": {},
   "source": [
    "#### Para descrição + título"
   ]
  },
  {
   "cell_type": "code",
   "execution_count": null,
   "metadata": {
    "ExecuteTime": {
     "end_time": "2025-05-02T16:09:44.802216Z",
     "start_time": "2025-05-02T15:26:01.413462Z"
    }
   },
   "outputs": [
    {
     "name": "stdout",
     "output_type": "stream",
     "text": [
      "SVM: 57.553%\n"
     ]
    }
   ],
   "source": [
    "svm = SVC(C=1.0, kernel='linear', degree=3, gamma='auto')\n",
    "svm.fit(train_X_tfidf_2full, train_Y2)\n",
    "predictions_svm = svm.predict(test_X_tfidf_2full)\n",
    "full_acc2 = accuracy_score(predictions_svm, test_Y2)\n",
    "print(f\"Acurácia SVM: {full_acc2*100:.3f}%\")"
   ]
  },
  {
   "cell_type": "code",
   "execution_count": null,
   "metadata": {},
   "outputs": [],
   "source": [
    "fig, ax = plt.subplots(figsize=(10, 5))\n",
    "categorias = ['Conjunto 2 - Todos menos os três principais']\n",
    "x = np.arange(len(categorias))\n",
    "width = 0.25\n",
    "\n",
    "# uma barra para cada estratégia\n",
    "rects1 = ax.bar(x - width, desc_acc2, width, label='Descrição')\n",
    "rects2 = ax.bar(x, title_acc2, width, label='Título')\n",
    "rects3 = ax.bar(x + width, full_acc2, width, label='Descrição + Título')\n",
    "\n",
    "# rotulos + título\n",
    "ax.set_ylabel('Acurácia (%)')\n",
    "ax.set_title('Acurácia X Conjunto de Dados e Características')\n",
    "ax.set_xticks(x)\n",
    "ax.set_xticklabels(categorias)\n",
    "ax.legend()\n",
    "\n",
    "# adicionando os valores no topo das barras\n",
    "def add_labels(rects):\n",
    "    for rect in rects:\n",
    "        height = rect.get_height()\n",
    "        ax.annotate(f'{height:.2f}',\n",
    "                    xy=(rect.get_x() + rect.get_width() / 2, height),\n",
    "                    xytext=(0, 3),\n",
    "                    textcoords=\"offset points\",\n",
    "                    ha='center', va='bottom')\n",
    "\n",
    "add_labels(rects1)\n",
    "add_labels(rects2)\n",
    "add_labels(rects3)\n",
    "\n",
    "plt.show()"
   ]
  },
  {
   "cell_type": "markdown",
   "metadata": {},
   "source": [
    "## Conjunto 3 - 9 pricipais temas do Conjunto 2"
   ]
  },
  {
   "cell_type": "markdown",
   "metadata": {},
   "source": [
    "Criação de um vetor *tf-idf* para a descrição, titulo, e descrição + titulo juntos"
   ]
  },
  {
   "cell_type": "markdown",
   "metadata": {},
   "source": [
    "#### Para descrição"
   ]
  },
  {
   "cell_type": "code",
   "execution_count": 45,
   "metadata": {
    "ExecuteTime": {
     "end_time": "2025-05-02T16:09:47.327722Z",
     "start_time": "2025-05-02T16:09:44.919456Z"
    }
   },
   "outputs": [],
   "source": [
    "tfidf_vector3desc = TfidfVectorizer()\n",
    "tfidf_vector3desc.fit(dados_t3['desc_processado'])\n",
    "\n",
    "train_X_tfidf_3desc = tfidf_vector3desc.transform(train_X3['desc_processado'])\n",
    "test_X_tfidf_3desc = tfidf_vector3desc.transform(test_X3['desc_processado'])\n",
    "\n",
    "dados_principais_tfidf_3desc = tfidf_vector3desc.transform(dados_t3['desc_processado'])"
   ]
  },
  {
   "cell_type": "markdown",
   "metadata": {},
   "source": [
    "#### Para título"
   ]
  },
  {
   "cell_type": "code",
   "execution_count": 46,
   "metadata": {
    "ExecuteTime": {
     "end_time": "2025-05-02T16:09:48.836794Z",
     "start_time": "2025-05-02T16:09:47.356744Z"
    }
   },
   "outputs": [],
   "source": [
    "tfidf_vector3title = TfidfVectorizer()\n",
    "tfidf_vector3title.fit(dados_t3['headline_processado'])\n",
    "\n",
    "train_X_tfidf_3title = tfidf_vector3title.transform(train_X3['headline_processado'])\n",
    "test_X_tfidf_3title = tfidf_vector3title.transform(test_X3['headline_processado'])\n",
    "\n",
    "dados_principais_tfidf_3title = tfidf_vector3title.transform(dados_t3['headline_processado'])"
   ]
  },
  {
   "cell_type": "markdown",
   "metadata": {},
   "source": [
    "#### Para descrição + título"
   ]
  },
  {
   "cell_type": "code",
   "execution_count": 47,
   "metadata": {
    "ExecuteTime": {
     "end_time": "2025-05-02T16:09:52.347945Z",
     "start_time": "2025-05-02T16:09:48.865312Z"
    }
   },
   "outputs": [],
   "source": [
    "tfidf_vector3full = TfidfVectorizer()\n",
    "tfidf_vector3full.fit(dados_t3['texto_tot'])\n",
    "\n",
    "train_X_tfidf_3full = tfidf_vector3full.transform(train_X3['texto_tot'])\n",
    "test_X_tfidf_3full = tfidf_vector3full.transform(test_X3['texto_tot'])\n",
    "\n",
    "dados_principais_tfidf_3full = tfidf_vector3full.transform(dados_t3['texto_tot'])"
   ]
  },
  {
   "cell_type": "markdown",
   "metadata": {},
   "source": [
    "### Aplicando o modelo:"
   ]
  },
  {
   "cell_type": "markdown",
   "metadata": {},
   "source": [
    "#### Para descrição"
   ]
  },
  {
   "cell_type": "code",
   "execution_count": 3,
   "metadata": {
    "ExecuteTime": {
     "end_time": "2025-05-02T16:16:17.492119Z",
     "start_time": "2025-05-02T16:09:52.375526Z"
    }
   },
   "outputs": [
    {
     "ename": "NameError",
     "evalue": "name 'train_X_tfidf_3desc' is not defined",
     "output_type": "error",
     "traceback": [
      "\u001b[31m---------------------------------------------------------------------------\u001b[39m",
      "\u001b[31mNameError\u001b[39m                                 Traceback (most recent call last)",
      "\u001b[36mCell\u001b[39m\u001b[36m \u001b[39m\u001b[32mIn[3]\u001b[39m\u001b[32m, line 2\u001b[39m\n\u001b[32m      1\u001b[39m svm = SVC(C=\u001b[32m1.0\u001b[39m, kernel=\u001b[33m'\u001b[39m\u001b[33mlinear\u001b[39m\u001b[33m'\u001b[39m, degree=\u001b[32m3\u001b[39m, gamma=\u001b[33m'\u001b[39m\u001b[33mauto\u001b[39m\u001b[33m'\u001b[39m)\n\u001b[32m----> \u001b[39m\u001b[32m2\u001b[39m svm.fit(\u001b[43mtrain_X_tfidf_3desc\u001b[49m, train_Y3)\n\u001b[32m      3\u001b[39m predictions_svm = svm.predict(test_X_tfidf_3desc)\n\u001b[32m      4\u001b[39m desc_acc = accuracy_score(predictions_svm, test_Y3)\n",
      "\u001b[31mNameError\u001b[39m: name 'train_X_tfidf_3desc' is not defined"
     ]
    }
   ],
   "source": [
    "svm = SVC(C=1.0, kernel='linear', degree=3, gamma='auto')\n",
    "svm.fit(train_X_tfidf_3desc, train_Y3)\n",
    "predictions_svm = svm.predict(test_X_tfidf_3desc)\n",
    "desc_acc3 = accuracy_score(predictions_svm, test_Y3)\n",
    "print(f\"Acurácia SVM: {desc_acc3*100:.3f}%\")"
   ]
  },
  {
   "cell_type": "markdown",
   "metadata": {},
   "source": [
    "#### Para título"
   ]
  },
  {
   "cell_type": "code",
   "execution_count": null,
   "metadata": {
    "ExecuteTime": {
     "end_time": "2025-05-02T16:19:14.993398Z",
     "start_time": "2025-05-02T16:16:17.575748Z"
    }
   },
   "outputs": [
    {
     "name": "stdout",
     "output_type": "stream",
     "text": [
      "SVM: 78.372%\n"
     ]
    }
   ],
   "source": [
    "svm = SVC(C=1.0, kernel='linear', degree=3, gamma='auto')\n",
    "svm.fit(train_X_tfidf_3title, train_Y3)\n",
    "predictions_svm = svm.predict(test_X_tfidf_3title)\n",
    "title_acc3 = accuracy_score(predictions_svm, test_Y3)\n",
    "print(f\"Acurácia SVM: {title_acc3*100:.3f}%\")"
   ]
  },
  {
   "cell_type": "markdown",
   "metadata": {},
   "source": [
    "#### Para descrição + título"
   ]
  },
  {
   "cell_type": "code",
   "execution_count": null,
   "metadata": {
    "ExecuteTime": {
     "end_time": "2025-05-02T16:27:24.962612Z",
     "start_time": "2025-05-02T16:19:15.078264Z"
    }
   },
   "outputs": [
    {
     "name": "stdout",
     "output_type": "stream",
     "text": [
      "SVM: 79.490%\n"
     ]
    }
   ],
   "source": [
    "svm = SVC(C=1.0, kernel='linear', degree=3, gamma='auto')\n",
    "svm.fit(train_X_tfidf_3full, train_Y3)\n",
    "predictions_svm = svm.predict(test_X_tfidf_3full)\n",
    "total_acc3 = accuracy_score(predictions_svm, test_Y3)\n",
    "print(f\"Acurácia SVM: {total_acc3*100:.3f}%\")"
   ]
  },
  {
   "cell_type": "code",
   "execution_count": null,
   "metadata": {},
   "outputs": [],
   "source": [
    "fig, ax = plt.subplots(figsize=(10, 5))\n",
    "categorias = ['Conjunto 3 - 9 pricipais temas do Conjunto 2']\n",
    "x = np.arange(len(categorias))\n",
    "width = 0.25\n",
    "\n",
    "# uma barra para cada estratégia\n",
    "rects1 = ax.bar(x - width, desc_acc3, width, label='Descrição')\n",
    "rects2 = ax.bar(x, title_acc3, width, label='Título')\n",
    "rects3 = ax.bar(x + width, full_acc3, width, label='Descrição + Título')\n",
    "\n",
    "# rotulos + título\n",
    "ax.set_ylabel('Acurácia (%)')\n",
    "ax.set_title('Acurácia X Conjunto de Dados e Características')\n",
    "ax.set_xticks(x)\n",
    "ax.set_xticklabels(categorias)\n",
    "ax.legend()\n",
    "\n",
    "# adicionando os valores no topo das barras\n",
    "def add_labels(rects):\n",
    "    for rect in rects:\n",
    "        height = rect.get_height()\n",
    "        ax.annotate(f'{height:.2f}',\n",
    "                    xy=(rect.get_x() + rect.get_width() / 2, height),\n",
    "                    xytext=(0, 3),\n",
    "                    textcoords=\"offset points\",\n",
    "                    ha='center', va='bottom')\n",
    "\n",
    "add_labels(rects1)\n",
    "add_labels(rects2)\n",
    "add_labels(rects3)\n",
    "\n",
    "plt.show()"
   ]
  },
  {
   "cell_type": "markdown",
   "metadata": {},
   "source": [
    "## Conclusão\n",
    "\n",
    "Após a análise dos três conjuntos de dados com diferentes estratégias de processamento de texto, podemos observar:\n",
    "\n",
    "1. **Conjunto 1 (Três principais temas)**:\n",
    "   - Melhor desempenho geral, com acurácia superior a 80% em todas as abordagens\n",
    "   - A combinação de descrição + título obteve o melhor resultado\n",
    "   - Isso sugere que temas mais amplos são mais facilmente distinguíveis\n",
    "\n",
    "2. **Conjunto 2 (Todos menos os três principais)**:\n",
    "   - Desempenho mais baixo em comparação com o Conjunto 1\n",
    "   - Maior complexidade devido ao número de categorias\n",
    "   - A diferença entre usar apenas título ou apenas descrição é menor\n",
    "\n",
    "3. **Conjunto 3 (9 principais temas do Conjunto 2)**:\n",
    "   - Desempenho intermediário\n",
    "   - Melhor que o Conjunto 2 completo, mas inferior ao Conjunto 1\n",
    "   - Demonstra que reduzir o número de categorias melhora a precisão\n",
    "\n",
    "**Observações Gerais:**\n",
    "- A combinação de título e descrição consistentemente oferece os melhores resultados\n",
    "- Quanto menor o número de categorias, melhor o desempenho do classificador\n",
    "- O SVM mostrou-se eficaz para esta tarefa de classificação multiclasse\n",
    "- A diferença de desempenho entre usar apenas título ou apenas descrição varia conforme o conjunto"
   ]
  },
  {
   "cell_type": "code",
   "execution_count": null,
   "metadata": {},
   "outputs": [],
   "source": [
    "fig, ax = plt.subplots(figsize=(15, 7))\n",
    "categorias = ['Conjunto 1\\n(3 principais)', 'Conjunto 2\\n(Todos - 3)', 'Conjunto 3\\n(9 principais do C2)']\n",
    "x = np.arange(len(categorias))\n",
    "width = 0.25\n",
    "\n",
    "desc_accuracies = [desc_acc1, desc_acc2, desc_acc3]\n",
    "title_accuracies = [title_acc1, title_acc2, title_acc3]\n",
    "full_accuracies = [full_acc1, full_acc2, full_acc3]\n",
    "\n",
    "rects1 = ax.bar(x - width, desc_accuracies, width, label='Descrição')\n",
    "rects2 = ax.bar(x, title_accuracies, width, label='Título')\n",
    "rects3 = ax.bar(x + width, full_accuracies, width, label='Descrição + Título')\n",
    "\n",
    "ax.set_ylabel('Acurácia (%)')\n",
    "ax.set_title('Comparação de Acurácia entre os Três Conjuntos')\n",
    "ax.set_xticks(x)\n",
    "ax.set_xticklabels(categorias)\n",
    "ax.legend()\n",
    "\n",
    "def add_labels(rects):\n",
    "    for rect in rects:\n",
    "        height = rect.get_height()\n",
    "        ax.annotate(f'{height:.2%}',\n",
    "                    xy=(rect.get_x() + rect.get_width() / 2, height),\n",
    "                    xytext=(0, 3),\n",
    "                    textcoords=\"offset points\",\n",
    "                    ha='center', va='bottom')\n",
    "\n",
    "add_labels(rects1)\n",
    "add_labels(rects2)\n",
    "add_labels(rects3)\n",
    "\n",
    "plt.tight_layout()\n",
    "plt.show()"
   ]
  }
 ],
 "metadata": {
  "colab": {
   "collapsed_sections": [],
   "name": "pessoa.ipynb",
   "provenance": []
  },
  "kernelspec": {
   "display_name": "venv",
   "language": "python",
   "name": "python3"
  },
  "language_info": {
   "codemirror_mode": {
    "name": "ipython",
    "version": 3
   },
   "file_extension": ".py",
   "mimetype": "text/x-python",
   "name": "python",
   "nbconvert_exporter": "python",
   "pygments_lexer": "ipython3",
   "version": "3.13.3"
  }
 },
 "nbformat": 4,
 "nbformat_minor": 4
}
